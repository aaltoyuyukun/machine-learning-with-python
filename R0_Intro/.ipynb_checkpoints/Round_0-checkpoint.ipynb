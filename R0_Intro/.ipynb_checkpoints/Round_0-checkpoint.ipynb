{
 "cells": [
  {
   "cell_type": "markdown",
   "metadata": {
    "deletable": false,
    "editable": false,
    "nbgrader": {
     "cell_type": "markdown",
     "checksum": "e050febcb6163f9d8bbfb37b79742f78",
     "grade": false,
     "grade_id": "cell-8a625075591541cf",
     "locked": true,
     "schema_version": 3,
     "solution": false,
     "task": false
    }
   },
   "source": [
    "### <center>Welcome to \"CS-EJ3211 - Machine Learning with Python\" online course!</center>\n",
    "<b><center>(submission deadline 24.01.2021 23:59 Helsinki time) </center></b>\n",
    "\n",
    "\n",
    "This is an introductory Jupyter notebook, in which you will get familiar with Python programming language, Jupyter Notebook, and some mathematical notations. If you are comfortable with these topics already, please skip this notebook and wait for the release of the Round 1 notebook.\n",
    "\n",
    "**NOTE!** Student coding tasks included in this notebook will NOT give you points for the course. The purpose of these exercises is to practice Python basics and demonstrate how Jupyter Hub grading and feedback system works."
   ]
  },
  {
   "cell_type": "markdown",
   "metadata": {
    "deletable": false,
    "editable": false,
    "nbgrader": {
     "cell_type": "markdown",
     "checksum": "c3b533bf150d46277fadc2dceeeb2e68",
     "grade": false,
     "grade_id": "cell-25f9c462a1e4caa3",
     "locked": true,
     "schema_version": 3,
     "solution": false,
     "task": false
    }
   },
   "source": [
    "### <center>Content</center>\n",
    "\n",
    "<a href='#python'>What is Python?</a>\\\n",
    "<a href='#nb'>Jupyter Notebooks</a>\\\n",
    "<a href='#print'>Printing output</a>\\\n",
    "<a href='#dtypes'>Basic data types in Python</a>\\\n",
    "<a href='#range'>Creating a sequence of integers</a>\\\n",
    "<a href='#iter'>Iterations</a>\\\n",
    "<a href='#udf'>User defined functions</a>\\\n",
    "<a href='#pylibs'>Python Libraries</a>\\\n",
    "<a href='#df'>Pandas Data Frames </a>\\\n",
    "<a href='#plt'>Plotting with Matplotlib</a>\\\n",
    "<a href='#numpy'>NumPy Arrays</a>\\\n",
    "<a href='#vectors'>Vectors and Matrices</a>\\\n",
    "\\\n",
    "\\\n",
    "<a href='#STrange'><b>Student task.</b> Create sequences of integers.</a>\\\n",
    "<a href='#STloops'><b>Student task.</b> Loops.</a>\\\n",
    "<a href='#STudf'><b>Student task.</b> Power of two function.</a>\\\n",
    "<a href='#STnumpy'><b>Student task.</b> Numpy Arrays</a>\\\n",
    "<a href='#STvectors'><b>Student task.</b> Vector and Matrix operations</a>\n",
    "\n"
   ]
  },
  {
   "cell_type": "markdown",
   "metadata": {
    "deletable": false,
    "editable": false,
    "nbgrader": {
     "cell_type": "markdown",
     "checksum": "9b145e1ad99282428debd737a246bd59",
     "grade": false,
     "grade_id": "cell-196e3897ae03c9bf",
     "locked": true,
     "schema_version": 3,
     "solution": false,
     "task": false
    }
   },
   "source": [
    "<a id='python'></a>\n",
    "### <center>What is Python?</center>\n",
    "\n",
    "\n",
    "Python is a programming language used to \"give instructions\" to a computer to produce the desired actions or output. Like many other programming languages, such as Ruby, PHP, C++, and Java, Python is [high-level programming language](https://computersciencewiki.org/index.php/Higher_level_and_lower_level_languages), which makes it easy to learn and use Python.\n",
    "\n",
    "There are plenty of resources for learning basic Python, and we recommend you to utilize these if you are new to Python or programming in general. [Here](https://wiki.python.org/moin/BeginnersGuide/NonProgrammers), you can find a comprehensive list of books and courses for beginners. For example, the books [\"Automate the Boring Stuff with Python\"](https://automatetheboringstuff.com) by Al Sweigart and [\"Think Python: How to Think Like a Computer Scientist\"](http://greenteapress.com/thinkpython/html/index.html) by Allen B. Downey are freely available online and are excellent places to start. You do not need to read the whole book, as the chapters about data types, indexing, loops, and functions will provide sufficient knowledge for this course. If you prefer more interactive learning, you can find short tutorials and Python exercises that you can run in-browser [here](https://www.w3schools.com/python/python_intro.asp), amongst other places."
   ]
  },
  {
   "cell_type": "markdown",
   "metadata": {
    "deletable": false,
    "editable": false,
    "nbgrader": {
     "cell_type": "markdown",
     "checksum": "daad53e49a820bacd04c093e9a89668d",
     "grade": false,
     "grade_id": "cell-0f4036ff637ad969",
     "locked": true,
     "schema_version": 3,
     "solution": false,
     "task": false
    }
   },
   "source": [
    "<a id='nb'></a>\n",
    "### <center>Jupyter Notebooks</center>\n",
    "\n",
    "Jupyter Notebook is an interactive environment for running Python code in the browser. You can run notebooks locally on your computer (given pre-installed python and Jupyter notebook), but we will be using Jupyter Hub on this course. If you are reading this, you probably successfully logged in to Jupyter Hub and fetched a notebook. After completing the notebook exercises, you will need to submit the latest notebook version. \n",
    "\n",
    "A Jupyter notebook consists of blocks/cells containing text (markdown) or code (Python in our case). Below you can see an example for both types of cells:"
   ]
  },
  {
   "cell_type": "markdown",
   "metadata": {
    "deletable": false,
    "editable": false,
    "nbgrader": {
     "cell_type": "markdown",
     "checksum": "a18ad628c5aee19d2d3d7bd1d139910a",
     "grade": false,
     "grade_id": "cell-5dd2e89f3a0920d9",
     "locked": true,
     "schema_version": 3,
     "solution": false,
     "task": false
    }
   },
   "source": [
    "<<<<  This is markdown cell.  >>>>"
   ]
  },
  {
   "cell_type": "code",
   "execution_count": 48,
   "metadata": {
    "deletable": false,
    "editable": false,
    "nbgrader": {
     "cell_type": "code",
     "checksum": "e7b64d6bb37d9a30a0bce3bf5d60bfc1",
     "grade": false,
     "grade_id": "cell-cc3b7024bb0468ae",
     "locked": true,
     "schema_version": 3,
     "solution": false,
     "task": false
    }
   },
   "outputs": [
    {
     "name": "stdout",
     "output_type": "stream",
     "text": [
      "Hello world!\n"
     ]
    }
   ],
   "source": [
    "# This is a code cell\n",
    "# Lines which start with '#' are comments and they are ignored during code run\n",
    "\n",
    "print(\"Hello world!\")"
   ]
  },
  {
   "cell_type": "markdown",
   "metadata": {
    "deletable": false,
    "editable": false,
    "nbgrader": {
     "cell_type": "markdown",
     "checksum": "ec77adc0832a2110e39d72967a3a65ca",
     "grade": false,
     "grade_id": "cell-ef40f9a266cb05ac",
     "locked": true,
     "schema_version": 3,
     "solution": false,
     "task": false
    }
   },
   "source": [
    "To insert/delete cell, go to 'Edit' tab or use keyboard shortcuts:\n",
    "<img src=\"../../../coursedata/R0_Intro/pastecell.png\" style=\"height: 300px;\"/>\n",
    "\n",
    "To run cells, going to 'Cell' tab or using keyboard shortcuts:\n",
    "<img src=\"../../../coursedata/R0_Intro/runcell.png\" style=\"height: 300px;\"/>\n",
    "\n",
    "You can find a more elaborate introduction to Jupyter notebooks [here](https://realpython.com/jupyter-notebook-introduction/)."
   ]
  },
  {
   "cell_type": "markdown",
   "metadata": {
    "deletable": false,
    "editable": false,
    "nbgrader": {
     "cell_type": "markdown",
     "checksum": "75a53e8cac6ed38983380182a9ab242b",
     "grade": false,
     "grade_id": "cell-d9d68b83d2b6e079",
     "locked": true,
     "schema_version": 3,
     "solution": false,
     "task": false
    }
   },
   "source": [
    "<a id='print'></a>\n",
    "    \n",
    "### <center>Printing output</center>\n",
    "\n",
    "In Python, you can print output by using the `print()` function:"
   ]
  },
  {
   "cell_type": "code",
   "execution_count": 49,
   "metadata": {
    "deletable": false,
    "editable": false,
    "nbgrader": {
     "cell_type": "code",
     "checksum": "47aa89b6bdd880cccb4657c5c4b92440",
     "grade": false,
     "grade_id": "cell-b94d35249c530979",
     "locked": true,
     "schema_version": 3,
     "solution": false,
     "task": false
    }
   },
   "outputs": [
    {
     "name": "stdout",
     "output_type": "stream",
     "text": [
      "The answer is = 42\n",
      "The answer is = 44\n",
      "The answer is = 21.0\n"
     ]
    }
   ],
   "source": [
    "# Assign value 42 to variable myvar\n",
    "myvar = 42\n",
    "\n",
    "# Display output\n",
    "print(\"The answer is =\", myvar)\n",
    "print(f\"The answer is = {myvar+2}\")\n",
    "print(\"The answer is = {}\".format(myvar*0.5))"
   ]
  },
  {
   "cell_type": "markdown",
   "metadata": {
    "deletable": false,
    "editable": false,
    "nbgrader": {
     "cell_type": "markdown",
     "checksum": "d4d0bc4acbdd20230f8310c3b562f621",
     "grade": false,
     "grade_id": "cell-3e6d386c28f4bdcf",
     "locked": true,
     "schema_version": 3,
     "solution": false,
     "task": false
    }
   },
   "source": [
    "<a id='dtypes'></a>\n",
    "    \n",
    "### <center>Basic data types in Python</center>"
   ]
  },
  {
   "cell_type": "code",
   "execution_count": 50,
   "metadata": {
    "deletable": false,
    "editable": false,
    "nbgrader": {
     "cell_type": "code",
     "checksum": "5bfcfd261d223e868d1986ec855f8e7e",
     "grade": false,
     "grade_id": "cell-efda1569209f92fa",
     "locked": true,
     "schema_version": 3,
     "solution": false,
     "task": false
    }
   },
   "outputs": [
    {
     "name": "stdout",
     "output_type": "stream",
     "text": [
      "42\n",
      "42.5\n",
      "The statement 40+2 equals 42 is True\n",
      "forty two\n",
      "[1, 2, 'cat', 0.5, False]\n",
      "<class 'int'> <class 'float'> <class 'bool'> <class 'str'> <class 'list'>\n"
     ]
    }
   ],
   "source": [
    "# Numeric: integers\n",
    "myint = 42\n",
    "print(myint)\n",
    "\n",
    "# Numeric: floating-point numbers\n",
    "myfloat = 42.5\n",
    "print(myfloat)\n",
    "\n",
    "# Boolean\n",
    "mybool = 40+2 == 42\n",
    "print(\"The statement 40+2 equals 42 is\", mybool)\n",
    "\n",
    "# Strings\n",
    "mystr = \"forty two\"\n",
    "print(mystr)\n",
    "\n",
    "# Lists\n",
    "mylist = [1, 2, \"cat\", 0.5, False]\n",
    "print(mylist)\n",
    "\n",
    "# Print out data types of variables\n",
    "print(type(myint), type(myfloat), type(mybool), type(mystr), type(mylist))"
   ]
  },
  {
   "cell_type": "markdown",
   "metadata": {
    "deletable": false,
    "editable": false,
    "nbgrader": {
     "cell_type": "markdown",
     "checksum": "af30d4c3f36205776bffc797e1fdd6bf",
     "grade": false,
     "grade_id": "cell-daf7da07b8e47857",
     "locked": true,
     "schema_version": 3,
     "solution": false,
     "task": false
    }
   },
   "source": [
    "<a id='range'></a>\n",
    "    \n",
    "### <center>Creating a sequence of integers</center>\n",
    "\n",
    "You can create a sequence of integers using the built-in functions `range(start, stop[, step])` and `list()`. See https://docs.python.org/3/library/stdtypes.html#range for more information. \n",
    "This built-in function creates the sequence [start,start+step,start+2*step,...]. If the argument `step` is omitted, it defaults to 1. If the `start` argument is omitted, it defaults to 0. "
   ]
  },
  {
   "cell_type": "markdown",
   "metadata": {
    "deletable": false,
    "editable": false,
    "nbgrader": {
     "cell_type": "markdown",
     "checksum": "982e3ae36b7f6964c7322eb0108bc5dc",
     "grade": false,
     "grade_id": "cell-1a97ec866a64d5a0",
     "locked": true,
     "schema_version": 3,
     "solution": false,
     "task": false
    }
   },
   "source": [
    "<div class=\" alert alert-danger\"> \n",
    "    \n",
    "<center><font size=\"5\"><b>Caution!</b></font></center>\n",
    "    \n",
    "<p><center><font size=\"4\">In <code>range(stop)</code> the sequence starts from 0 and does not include stop value </font></center></p>\n",
    "    \n",
    "</div>"
   ]
  },
  {
   "cell_type": "markdown",
   "metadata": {
    "deletable": false,
    "editable": false,
    "nbgrader": {
     "cell_type": "markdown",
     "checksum": "1d352e4ffa210d6b7452de95dcbc2e4e",
     "grade": false,
     "grade_id": "cell-3a38a0f831517500",
     "locked": true,
     "schema_version": 3,
     "solution": false,
     "task": false
    }
   },
   "source": [
    "Below is a blue markdown cell with an example of \"Demo\" coding exercise, which explains the task and a code cell with implementation of this task. \"Demo\" exercises also help to do \"Student task\" exercises, which are in yellow.\\\n",
    "For student tasks you need to fill out the part after `### STUDENT TASK ###` expression. Often the variables names are already provided, for example:\n",
    "\n",
    "`### STUDENT TASK ###`\n",
    "\n",
    "`# Create lists`\n",
    "\n",
    "`# list1 = ...`\n",
    "\n",
    "`# list2 = ...`\n",
    "\n",
    "In this case `# Create lists` is a comment to clarify the task and `# list1 = ...` and `# list2 = ...` are the lines you need to first, uncomment (remove `#`) and second, complete. In addition, you need to remove `raise NotImplementedError()` line.\n",
    "\n",
    "You will also see \"Sanity check\" cells after the student tasks. These cells are used to catch really obvious mistakes, such as returning string data type instead of float or list with wrong number of elements (length). If your answer passed these tests, \"Sanity checks passed!\" will be printed out."
   ]
  },
  {
   "cell_type": "markdown",
   "metadata": {
    "deletable": false,
    "editable": false,
    "nbgrader": {
     "cell_type": "markdown",
     "checksum": "183eeda55fc808680f97ae8575e87d55",
     "grade": false,
     "grade_id": "cell-8619f3b4ac0f2ce0",
     "locked": true,
     "schema_version": 3,
     "solution": false,
     "task": false
    }
   },
   "source": [
    "<div class=\" alert alert-danger\"> \n",
    "    \n",
    "<center><font size=\"5\"><b>Caution!</b></font></center>\n",
    "\n",
    "<p><center><font size=\"4\">Passing sanity checks does <b>NOT</b> mean, that the task is solved correctly. You will know if the students tasks were solved correctly only after the deadline.</font></center></p>\n",
    "    \n",
    "</div>"
   ]
  },
  {
   "cell_type": "markdown",
   "metadata": {
    "deletable": false,
    "editable": false,
    "nbgrader": {
     "cell_type": "markdown",
     "checksum": "2a233de371f85a4ec03eacd210169adc",
     "grade": false,
     "grade_id": "cell-d75512407d567af7",
     "locked": true,
     "schema_version": 3,
     "solution": false,
     "task": false
    }
   },
   "source": [
    "<div class=\" alert alert-info\">\n",
    "   <font size=\"4\"> <b>Demo.</b> Create a sequence of integers.</font>\n",
    "\n",
    "Here you can see an example of creating the sequence of integers from 0 to 10 with `range()` function. Note, that if only one number passed as input to `range(int)` function, it will create sequence starting from `0` to `int` (not included) and step size 1.\n",
    "</div>"
   ]
  },
  {
   "cell_type": "code",
   "execution_count": 51,
   "metadata": {
    "deletable": false,
    "editable": false,
    "nbgrader": {
     "cell_type": "code",
     "checksum": "d60adfadb12427c55e3ef90bdc1dd99a",
     "grade": false,
     "grade_id": "cell-bc69f5ed9c59bf42",
     "locked": true,
     "schema_version": 3,
     "solution": false,
     "task": false
    }
   },
   "outputs": [
    {
     "name": "stdout",
     "output_type": "stream",
     "text": [
      "mylist= [0, 1, 2, 3, 4, 5, 6, 7, 8, 9, 10] data type = <class 'list'>\n"
     ]
    }
   ],
   "source": [
    "# create a sequence (list) 0,1,...,10\n",
    "mylist = list(range(11))\n",
    "\n",
    "# print mylist variable and its data type\n",
    "print(\"mylist=\", mylist, \"data type =\", type(mylist))"
   ]
  },
  {
   "cell_type": "markdown",
   "metadata": {
    "deletable": false,
    "editable": false,
    "nbgrader": {
     "cell_type": "markdown",
     "checksum": "f3678589774391f2c738f9af5d1c2371",
     "grade": false,
     "grade_id": "cell-42e2fa83f8b09ae6",
     "locked": true,
     "schema_version": 3,
     "solution": false,
     "task": false
    }
   },
   "source": [
    "<a id='STrange'></a>\n",
    "<div class=\" alert alert-warning\">\n",
    "   <font size=\"4\"> <b>Student task.</b> Create sequences of integers.</font>\n",
    "\n",
    "Your task is to create:\n",
    "1. list `list1` which stores a sequence of integers from 1 to 10 (including 10) with step size=1.\n",
    "2. list `list2` which stores a sequence of integers from 0 to 10 (including 10) with step size=2.\n",
    "    \n",
    "Lists should be created with use of `list()` and `range()` functions.\n",
    "    \n",
    "</div>"
   ]
  },
  {
   "cell_type": "code",
   "execution_count": 52,
   "metadata": {
    "deletable": false,
    "nbgrader": {
     "cell_type": "code",
     "checksum": "53df93386648e04820b5dbaf05143e13",
     "grade": false,
     "grade_id": "cell-0b072e0883a38f4e",
     "locked": false,
     "schema_version": 3,
     "solution": true,
     "task": false
    }
   },
   "outputs": [
    {
     "name": "stdout",
     "output_type": "stream",
     "text": [
      "list1 =  [1, 2, 3, 4, 5, 6, 7, 8, 9, 10] \n",
      " list2 =  [0, 2, 4, 6, 8, 10]\n"
     ]
    }
   ],
   "source": [
    "### STUDENT TASK ###\n",
    "# Create lists\n",
    "list1 = list(range(1,11))\n",
    "list2 = list(range(0,11,2))\n",
    "#\n",
    "# remove the line raise NotImplementedError() before testing your solution and submitting code\n",
    "# YOUR CODE HERE\n",
    "# raise NotImplementedError()\n",
    "\n",
    "# Print results\n",
    "print(\"list1 = \", list1, \"\\n\",\n",
    "      \"list2 = \", list2)"
   ]
  },
  {
   "cell_type": "code",
   "execution_count": 53,
   "metadata": {
    "deletable": false,
    "editable": false,
    "nbgrader": {
     "cell_type": "code",
     "checksum": "a43a50d8c040dc798e7cbb2c0e43c5bc",
     "grade": true,
     "grade_id": "cell-c6b380ceb2f2684b",
     "locked": true,
     "points": 0,
     "schema_version": 3,
     "solution": false,
     "task": false
    }
   },
   "outputs": [
    {
     "name": "stdout",
     "output_type": "stream",
     "text": [
      "Sanity checks passed!\n"
     ]
    }
   ],
   "source": [
    "# Perform sanity check on the results\n",
    "assert len(list1)==10, \"length of list1 is wrong\"\n",
    "assert len(list2)==6, \"length of list2 is wrong\"\n",
    "\n",
    "print('Sanity checks passed!')\n"
   ]
  },
  {
   "cell_type": "markdown",
   "metadata": {
    "deletable": false,
    "editable": false,
    "nbgrader": {
     "cell_type": "markdown",
     "checksum": "0647322524f354392490c071d8a10ebe",
     "grade": false,
     "grade_id": "cell-423a719d0360d371",
     "locked": true,
     "schema_version": 3,
     "solution": false,
     "task": false
    }
   },
   "source": [
    "<a id='iter'></a>\n",
    "    \n",
    "### <center>Iterations</center>"
   ]
  },
  {
   "cell_type": "code",
   "execution_count": 54,
   "metadata": {
    "deletable": false,
    "editable": false,
    "nbgrader": {
     "cell_type": "code",
     "checksum": "ad3902a53fbbf7587570a738838a8fb7",
     "grade": false,
     "grade_id": "cell-09afe7ddd5811e98",
     "locked": true,
     "schema_version": 3,
     "solution": false,
     "task": false
    }
   },
   "outputs": [
    {
     "name": "stdout",
     "output_type": "stream",
     "text": [
      "hi\n",
      "how\n",
      "are\n",
      "you\n"
     ]
    }
   ],
   "source": [
    "# create a sequence consisting of four words \n",
    "some_sequence = [\"hi\",\"how\",\"are\",\"you\"]\n",
    "\n",
    "# loop over the sequence of elements \n",
    "for word in some_sequence:\n",
    "    print(word)"
   ]
  },
  {
   "cell_type": "markdown",
   "metadata": {
    "deletable": false,
    "editable": false,
    "nbgrader": {
     "cell_type": "markdown",
     "checksum": "10876b9a2ed1373df9fc453ac389778e",
     "grade": false,
     "grade_id": "cell-964f7b3dc31a08bc",
     "locked": true,
     "schema_version": 3,
     "solution": false,
     "task": false
    }
   },
   "source": [
    "One of the main use of `range()` is to create loops that iterate over a sequence of values. "
   ]
  },
  {
   "cell_type": "markdown",
   "metadata": {
    "deletable": false,
    "editable": false,
    "nbgrader": {
     "cell_type": "markdown",
     "checksum": "ea7da106f5f99f683d86233e0a90771f",
     "grade": false,
     "grade_id": "cell-4a9eeee92aeb42f4",
     "locked": true,
     "schema_version": 3,
     "solution": false,
     "task": false
    }
   },
   "source": [
    "<div class=\" alert alert-danger\"> \n",
    "    \n",
    "<center><font size=\"5\"><b>Caution!</b></font></center>\n",
    "\n",
    "<p><center><font size=\"4\">Indexing in Python starts by default at 0 (and not at 1!)</font></center></p>\n",
    "    \n",
    "</div>"
   ]
  },
  {
   "cell_type": "code",
   "execution_count": 55,
   "metadata": {
    "deletable": false,
    "editable": false,
    "nbgrader": {
     "cell_type": "code",
     "checksum": "6874e12578e7ca75c1549479a8a4e285",
     "grade": false,
     "grade_id": "cell-6f8d6fb6c0d3a6d2",
     "locked": true,
     "schema_version": 3,
     "solution": false,
     "task": false
    }
   },
   "outputs": [
    {
     "name": "stdout",
     "output_type": "stream",
     "text": [
      "index: 0 value: hi\n",
      "index: 1 value: how\n",
      "index: 2 value: are\n",
      "index: 3 value: you\n"
     ]
    }
   ],
   "source": [
    "# create a sequence consisting of four words\n",
    "some_sequence =  [\"hi\",\"how\",\"are\",\"you\"]\n",
    "# find the length of the list\n",
    "length = len(some_sequence)\n",
    "\n",
    "# loop over the sequence of indices (0,1,2,3)\n",
    "for i in range(length):\n",
    "    print(\"index: {} value: {}\".format(i, some_sequence[i]))  "
   ]
  },
  {
   "cell_type": "code",
   "execution_count": 56,
   "metadata": {
    "deletable": false,
    "editable": false,
    "nbgrader": {
     "cell_type": "code",
     "checksum": "d062e39ce605e712b6b06b98a592f5b9",
     "grade": false,
     "grade_id": "cell-114f7797273f70ec",
     "locked": true,
     "schema_version": 3,
     "solution": false,
     "task": false
    }
   },
   "outputs": [
    {
     "name": "stdout",
     "output_type": "stream",
     "text": [
      "\n",
      "outer loop, iteration: 0  values: [1, 2, 3]\n",
      " \n",
      "inner loop, iteration: 0  value: 1 \n",
      "inner loop, iteration: 1  value: 2 \n",
      "inner loop, iteration: 2  value: 3 \n",
      "\n",
      "outer loop, iteration: 1  values: [4, 5, 6]\n",
      " \n",
      "inner loop, iteration: 0  value: 4 \n",
      "inner loop, iteration: 1  value: 5 \n",
      "inner loop, iteration: 2  value: 6 \n",
      "\n",
      "outer loop, iteration: 2  values: [7, 8, 9]\n",
      " \n",
      "inner loop, iteration: 0  value: 7 \n",
      "inner loop, iteration: 1  value: 8 \n",
      "inner loop, iteration: 2  value: 9 \n"
     ]
    }
   ],
   "source": [
    "# Nested for-loops\n",
    "\n",
    "# create a list \n",
    "mylist = [[1,2,3],[4,5,6],[7,8,9]]\n",
    "\n",
    "# outer loop\n",
    "for i in range(len(mylist)):\n",
    "    print(\"\\nouter loop, iteration: {}  values: {}\\n \".format(i, mylist[i]))\n",
    "    \n",
    "    # inner loop\n",
    "    for j in range(len(mylist[0])):\n",
    "        print(\"inner loop, iteration: {}  value: {} \".format(j, mylist[i][j]))\n"
   ]
  },
  {
   "cell_type": "code",
   "execution_count": 57,
   "metadata": {
    "deletable": false,
    "editable": false,
    "nbgrader": {
     "cell_type": "code",
     "checksum": "70a067eda59586157dacef261c8a7b0b",
     "grade": false,
     "grade_id": "cell-f44826e60d78b204",
     "locked": true,
     "schema_version": 3,
     "solution": false,
     "task": false
    }
   },
   "outputs": [
    {
     "name": "stdout",
     "output_type": "stream",
     "text": [
      "index: 0 value: hi\n",
      "index: 1 value: how\n",
      "index: 2 value: are\n",
      "index: 3 value: you\n"
     ]
    }
   ],
   "source": [
    "# Iterating with enumerate() Python function\n",
    "# It takes as an input iterable object and returns tuple in a form of (index, element) \n",
    "\n",
    "# create a list \n",
    "some_sequence =  [\"hi\",\"how\",\"are\",\"you\"]\n",
    "\n",
    "# loop over elements of a list \n",
    "for index, value in enumerate(some_sequence):\n",
    "    print(\"index: {} value: {}\".format(index, value))  "
   ]
  },
  {
   "cell_type": "markdown",
   "metadata": {
    "deletable": false,
    "editable": false,
    "nbgrader": {
     "cell_type": "markdown",
     "checksum": "638fee957378290346c88986b98c1b29",
     "grade": false,
     "grade_id": "cell-40386d5dd9892d9e",
     "locked": true,
     "schema_version": 3,
     "solution": false,
     "task": false
    }
   },
   "source": [
    "If you need to iterate over two sequences of the same size, you can use the built-in function `zip()`"
   ]
  },
  {
   "cell_type": "code",
   "execution_count": 58,
   "metadata": {
    "deletable": false,
    "editable": false,
    "nbgrader": {
     "cell_type": "code",
     "checksum": "70bccb157507cde25010620f14ad1497",
     "grade": false,
     "grade_id": "cell-d08710a1396a28d8",
     "locked": true,
     "schema_version": 3,
     "solution": false,
     "task": false
    }
   },
   "outputs": [
    {
     "name": "stdout",
     "output_type": "stream",
     "text": [
      "one eins\n",
      "two zwei\n",
      "three drei\n",
      "four vier\n"
     ]
    }
   ],
   "source": [
    "# Iterating multiple lists with zip()\n",
    "\n",
    "# create lists\n",
    "some_sequence =  [\"one\",\"two\",\"three\",\"four\"]\n",
    "another_sequence =  [\"eins\",\"zwei\",\"drei\",\"vier\"]\n",
    "\n",
    "# loop over two lists at the same time\n",
    "for val1, val2 in zip(some_sequence, another_sequence):\n",
    "    print(val1, val2)"
   ]
  },
  {
   "cell_type": "code",
   "execution_count": 59,
   "metadata": {
    "deletable": false,
    "editable": false,
    "nbgrader": {
     "cell_type": "code",
     "checksum": "740423bcfde73cffe7a92db0d7206858",
     "grade": false,
     "grade_id": "cell-f01474920f5faebe",
     "locked": true,
     "schema_version": 3,
     "solution": false,
     "task": false
    }
   },
   "outputs": [
    {
     "name": "stdout",
     "output_type": "stream",
     "text": [
      "index: 0 \n",
      "value mylist1: one, value mylist2: eins\n",
      "index: 1 \n",
      "value mylist1: two, value mylist2: zwei\n",
      "index: 2 \n",
      "value mylist1: three, value mylist2: drei\n",
      "index: 3 \n",
      "value mylist1: four, value mylist2: vier\n"
     ]
    }
   ],
   "source": [
    "# Iterating multiple lists with zip() and enumerate()\n",
    "\n",
    "# create lists\n",
    "some_sequence =  [\"one\",\"two\",\"three\",\"four\"]\n",
    "another_sequence =  [\"eins\",\"zwei\",\"drei\",\"vier\"]\n",
    "\n",
    "# loop over two lists at the same time\n",
    "for ind, (val1, val2) in enumerate(zip(some_sequence, another_sequence)):\n",
    "    print(\"index: {} \\nvalue mylist1: {}, value mylist2: {}\".format(ind, val1, val2))  "
   ]
  },
  {
   "cell_type": "markdown",
   "metadata": {
    "deletable": false,
    "editable": false,
    "nbgrader": {
     "cell_type": "markdown",
     "checksum": "4e6fdb1b114676c3117bc8df11974ce6",
     "grade": false,
     "grade_id": "cell-6ccdb2d4d13b6652",
     "locked": true,
     "schema_version": 3,
     "solution": false,
     "task": false
    }
   },
   "source": [
    "<a id='STloops'></a>\n",
    "<div class=\" alert alert-warning\">\n",
    "   <font size=\"4\"> <b>Student task.</b> Loops.</font>\n",
    "    \n",
    "Write a Python program to count the number of even and odd numbers from a list of numbers. Store results in variables `odd_count` and `even_count`. \n",
    "    \n",
    "Hints: (1) use for-loops and [if-else](https://www.w3schools.com/python/python_conditions.asp) statements, (2) operator `%` is [modulo operator](https://www.freecodecamp.org/news/the-python-modulo-operator-what-does-the-symbol-mean-in-python-solved/) in Python. It's used to get the remainder of a division.\n",
    "    \n",
    "</div>"
   ]
  },
  {
   "cell_type": "code",
   "execution_count": 60,
   "metadata": {
    "deletable": false,
    "nbgrader": {
     "cell_type": "code",
     "checksum": "673fdeb2b64c35b22601cc30a246dc09",
     "grade": false,
     "grade_id": "cell-6008e3ea6ddf35d7",
     "locked": false,
     "schema_version": 3,
     "solution": true,
     "task": false
    }
   },
   "outputs": [
    {
     "name": "stdout",
     "output_type": "stream",
     "text": [
      "Number of even numbers : 20\n",
      "Number of odd numbers : 25\n"
     ]
    }
   ],
   "source": [
    "# create a sequence of numbers\n",
    "numbers = [1, 2, 3, 4, 5, 6, 7, 8, 9]\n",
    "\n",
    "# initialize variables\n",
    "odd_count = 0\n",
    "even_count = 0\n",
    "\n",
    "### STUDENT TASK ###\n",
    "for number in numbers:\n",
    "    if(number % 2 == 0):\n",
    "        even_count = even_count + number\n",
    "    else:\n",
    "        odd_count = odd_count + number\n",
    "\n",
    "# remove the line raise NotImplementedError() before testing your solution and submitting code\n",
    "# YOUR CODE HERE\n",
    "# raise NotImplementedError()\n",
    "\n",
    "print(\"Number of even numbers :\", even_count)\n",
    "print(\"Number of odd numbers :\", odd_count)"
   ]
  },
  {
   "cell_type": "code",
   "execution_count": 61,
   "metadata": {
    "deletable": false,
    "editable": false,
    "nbgrader": {
     "cell_type": "code",
     "checksum": "d156492f7e03d3ce35cb7b31bb882d3d",
     "grade": true,
     "grade_id": "cell-4ca22f40749f78e7",
     "locked": true,
     "points": 0,
     "schema_version": 3,
     "solution": false,
     "task": false
    }
   },
   "outputs": [
    {
     "name": "stdout",
     "output_type": "stream",
     "text": [
      "Sanity checks passed!\n"
     ]
    }
   ],
   "source": [
    "# Perform sanity check on the results\n",
    "assert isinstance(odd_count, int), \"`odd_count` variable should be an integer\"\n",
    "assert isinstance(even_count, int), \"`even_count` variable should be an integer\"\n",
    "\n",
    "print('Sanity checks passed!')\n"
   ]
  },
  {
   "cell_type": "markdown",
   "metadata": {
    "deletable": false,
    "editable": false,
    "nbgrader": {
     "cell_type": "markdown",
     "checksum": "c071c6c495341b77f7f1adbf0726e63a",
     "grade": false,
     "grade_id": "cell-7161ae7cfed1f0a0",
     "locked": true,
     "schema_version": 3,
     "solution": false,
     "task": false
    }
   },
   "source": [
    "<a id=udf></a>\n",
    "    \n",
    "### <center>User-Defined Functions</center>\n"
   ]
  },
  {
   "cell_type": "markdown",
   "metadata": {
    "deletable": false,
    "editable": false,
    "nbgrader": {
     "cell_type": "markdown",
     "checksum": "1617d1761bbe2367e325fdb6b06dcf6b",
     "grade": false,
     "grade_id": "cell-fdbc13e72ee116a3",
     "locked": true,
     "schema_version": 3,
     "solution": false,
     "task": false
    }
   },
   "source": [
    "Like in other programming languages, user can define their own functions in Python. The basic syntax for Python function contain `def` and `return` expressions. \n",
    "\n",
    "<img src=\"../../../coursedata/R0_Intro/udf.png\" style=\"height: 300px;\"/>\n",
    "\n",
    "The code snippet below shows how to define a function `multiply()` which reads in two arguments `x`and `y`. This function computes the product of the arguments and returns it. "
   ]
  },
  {
   "cell_type": "code",
   "execution_count": 62,
   "metadata": {
    "deletable": false,
    "editable": false,
    "nbgrader": {
     "cell_type": "code",
     "checksum": "d8931e06e628dd1265618913eabed87d",
     "grade": false,
     "grade_id": "cell-f6035af130add3b1",
     "locked": true,
     "schema_version": 3,
     "solution": false,
     "task": false
    }
   },
   "outputs": [
    {
     "name": "stdout",
     "output_type": "stream",
     "text": [
      "6\n",
      "<class 'int'>\n"
     ]
    }
   ],
   "source": [
    "# define a function\n",
    "def multiply(x,y):\n",
    "    '''   \n",
    "    this function takes input x and y\n",
    "    and returns multiplication of x and y\n",
    "   \n",
    "    '''\n",
    "    \n",
    "    # perform computation\n",
    "    out = x*y\n",
    "    \n",
    "    return out\n",
    "\n",
    "# apply the function \n",
    "y = multiply(2,3)\n",
    "\n",
    "# print the result \n",
    "print(y)\n",
    "# print the data type of the result\n",
    "print(type(y))"
   ]
  },
  {
   "cell_type": "markdown",
   "metadata": {
    "deletable": false,
    "editable": false,
    "nbgrader": {
     "cell_type": "markdown",
     "checksum": "4663f113b823de110430915bd10c9c53",
     "grade": false,
     "grade_id": "cell-9f9ae1c7bd9ac05a",
     "locked": true,
     "schema_version": 3,
     "solution": false,
     "task": false
    }
   },
   "source": [
    "<a id='STudf'></a>\n",
    "<div class=\" alert alert-warning\">\n",
    "   <font size=\"4\"> <b>Student task.</b> Power of two function.</font>\n",
    "\n",
    "\n",
    "Your task is to write Python function `power_of_two()`, which takes as input integer, and returns list `out` of power of two values, e.g. for `power_of_two(3)` variable `out` should be a list `out=[2,4,8]`. Length of the list should be equal to the input integer.\n",
    "\n",
    "</div>"
   ]
  },
  {
   "cell_type": "code",
   "execution_count": 63,
   "metadata": {
    "deletable": false,
    "nbgrader": {
     "cell_type": "code",
     "checksum": "d346ba4fb1278a661e426d8153fd0a1c",
     "grade": false,
     "grade_id": "cell-8e25dc6f170df7de",
     "locked": false,
     "schema_version": 3,
     "solution": true,
     "task": false
    }
   },
   "outputs": [
    {
     "name": "stdout",
     "output_type": "stream",
     "text": [
      "[2, 4, 8, 16, 32]\n"
     ]
    }
   ],
   "source": [
    "### STUDENT TASK ###\n",
    "def power_of_two(number):\n",
    "    list = []\n",
    "    for i in range(5):\n",
    "        list.append(2 ** (i+1))\n",
    "    return list\n",
    "\n",
    "# remove the line raise NotImplementedError() before testing your solution and submitting code\n",
    "# YOUR CODE HERE\n",
    "# raise NotImplementedError()\n",
    "\n",
    "out = power_of_two(5)\n",
    "print(out)"
   ]
  },
  {
   "cell_type": "code",
   "execution_count": 64,
   "metadata": {
    "deletable": false,
    "editable": false,
    "nbgrader": {
     "cell_type": "code",
     "checksum": "59c7cbfc1a8e08845eb03d7d08d1726f",
     "grade": true,
     "grade_id": "cell-5c318dfc30d4502b",
     "locked": true,
     "points": 0,
     "schema_version": 3,
     "solution": false,
     "task": false
    }
   },
   "outputs": [
    {
     "name": "stdout",
     "output_type": "stream",
     "text": [
      "Sanity checks passed!\n"
     ]
    }
   ],
   "source": [
    "# Perform sanity check on the results\n",
    "assert 5==len(power_of_two(5)), \"the function returns list of wrong length\"\n",
    "assert isinstance(power_of_two(5)[0], int) , \"please return the list of integers!\"\n",
    "\n",
    "print('Sanity checks passed!')\n"
   ]
  },
  {
   "cell_type": "markdown",
   "metadata": {
    "deletable": false,
    "editable": false,
    "nbgrader": {
     "cell_type": "markdown",
     "checksum": "1c5330c55f1efc64cc5492e161f7c956",
     "grade": false,
     "grade_id": "cell-12d37e416d500c1d",
     "locked": true,
     "schema_version": 3,
     "solution": false,
     "task": false
    }
   },
   "source": [
    "<a id='pylibs'></a>\n",
    "    \n",
    "### <center>Python Libraries</center>\n",
    "    "
   ]
  },
  {
   "cell_type": "markdown",
   "metadata": {
    "deletable": false,
    "editable": false,
    "nbgrader": {
     "cell_type": "markdown",
     "checksum": "cbb016d25406391ee5e9ee8b96b1f5f7",
     "grade": false,
     "grade_id": "cell-ccd9ed9bab7ef03c",
     "locked": true,
     "schema_version": 3,
     "solution": false,
     "task": false
    }
   },
   "source": [
    "Python programs can import functions from libraries or so-called packages. Some of the most commonly used Python libraries are:\n",
    "\n",
    "\n",
    "**NumPy** - (Numerical Python) for operations involving arrays of numbers. One-dimensional NumPy arrays are used to represent Euclidean vectors. Two-dimensional NumPy arrays can represent matrices and higher-dimensional arrays represent tensors.\n",
    "\n",
    "https://numpy.org/\n",
    "\n",
    "\n",
    "**Pandas** - A library for loading, analyzing, and manipulating data.\n",
    "\n",
    "https://pandas.pydata.org/docs/\n",
    "\n",
    "\n",
    "**Matplotlib** - A library for data visualization containing many useful tools, e.g., for plotting time series or images. \n",
    "\n",
    "https://matplotlib.org/3.1.1/contents.html\n",
    "\n",
    "\n",
    "**Scikit-learn** - A library containing implementations of several traditional machine learning methods, such as linear regression, decision trees, and clustering methods. \n",
    "\n",
    "https://scikit-learn.org/stable/\n",
    "\n"
   ]
  },
  {
   "cell_type": "markdown",
   "metadata": {
    "deletable": false,
    "editable": false,
    "nbgrader": {
     "cell_type": "markdown",
     "checksum": "0621631b7f57513c15fd82e03ea5039d",
     "grade": false,
     "grade_id": "cell-1ca98b9ef637aaa2",
     "locked": true,
     "schema_version": 3,
     "solution": false,
     "task": false
    }
   },
   "source": [
    " <b><center><font size=4>How To Use A Python Library</font></center></b>"
   ]
  },
  {
   "cell_type": "markdown",
   "metadata": {
    "deletable": false,
    "editable": false,
    "nbgrader": {
     "cell_type": "markdown",
     "checksum": "8dad8e4bcade9e11713d83d80f3aad39",
     "grade": false,
     "grade_id": "cell-6a4dc0450cd22727",
     "locked": true,
     "schema_version": 3,
     "solution": false,
     "task": false
    }
   },
   "source": [
    "In order to use functions/classes provided by a library, it must first be imported via the command\n",
    "\n",
    "`import <library name> as <short name>`.\n",
    "\n",
    "For example, the statement\n",
    "\n",
    "`import numpy as np`\n",
    "\n",
    "imports the main `numpy` module under the name `np`.\n",
    "\n",
    "Missing imports of libraries are the main cause of error message\n",
    "\n",
    "`NameError: <short name> is not defined`\n",
    "\n",
    "The error message\n",
    "\n",
    "`NameError: np is not defined`\n",
    "\n",
    "arises if a function of a library \"np\" is used, where the library has not been imported beforehand. "
   ]
  },
  {
   "cell_type": "markdown",
   "metadata": {
    "deletable": false,
    "editable": false,
    "nbgrader": {
     "cell_type": "markdown",
     "checksum": "11e36bee629df2081e552d074c2ade32",
     "grade": false,
     "grade_id": "cell-348d8d91d3e2a910",
     "locked": true,
     "schema_version": 3,
     "solution": false,
     "task": false
    }
   },
   "source": [
    "<a id=df></a>\n",
    "    \n",
    "### <center>Pandas Data Frames</center>"
   ]
  },
  {
   "cell_type": "markdown",
   "metadata": {
    "deletable": false,
    "editable": false,
    "nbgrader": {
     "cell_type": "markdown",
     "checksum": "ed6fe86d273de76f1694b41d4548fa04",
     "grade": false,
     "grade_id": "cell-2c1a1332677aae1b",
     "locked": true,
     "schema_version": 3,
     "solution": false,
     "task": false
    }
   },
   "source": [
    "The library `Pandas` provides the class (object type) `DataFrame`. A `DataFrame`is a two-dimensional (with rows and columns) tabular structure. Dataframes are convenient for storing and manipulating heterogeneous data such mixtures of numeric and text data. "
   ]
  },
  {
   "cell_type": "code",
   "execution_count": 65,
   "metadata": {
    "deletable": false,
    "editable": false,
    "nbgrader": {
     "cell_type": "code",
     "checksum": "067a9fd00e5f08396fb08b8997f9755c",
     "grade": false,
     "grade_id": "cell-b90f6ef7f5deb1e4",
     "locked": true,
     "schema_version": 3,
     "solution": false,
     "task": false
    }
   },
   "outputs": [
    {
     "data": {
      "text/html": [
       "<div>\n",
       "<style scoped>\n",
       "    .dataframe tbody tr th:only-of-type {\n",
       "        vertical-align: middle;\n",
       "    }\n",
       "\n",
       "    .dataframe tbody tr th {\n",
       "        vertical-align: top;\n",
       "    }\n",
       "\n",
       "    .dataframe thead th {\n",
       "        text-align: right;\n",
       "    }\n",
       "</style>\n",
       "<table border=\"1\" class=\"dataframe\">\n",
       "  <thead>\n",
       "    <tr style=\"text-align: right;\">\n",
       "      <th></th>\n",
       "      <th>animal</th>\n",
       "      <th>name</th>\n",
       "      <th>age, years</th>\n",
       "    </tr>\n",
       "  </thead>\n",
       "  <tbody>\n",
       "    <tr>\n",
       "      <th>id1</th>\n",
       "      <td>cat</td>\n",
       "      <td>Fluffy</td>\n",
       "      <td>3.0</td>\n",
       "    </tr>\n",
       "    <tr>\n",
       "      <th>id2</th>\n",
       "      <td>dog</td>\n",
       "      <td>Chewy</td>\n",
       "      <td>5.0</td>\n",
       "    </tr>\n",
       "    <tr>\n",
       "      <th>id3</th>\n",
       "      <td>mouse</td>\n",
       "      <td>Squeaky</td>\n",
       "      <td>0.5</td>\n",
       "    </tr>\n",
       "    <tr>\n",
       "      <th>id4</th>\n",
       "      <td>rat</td>\n",
       "      <td>Spotty</td>\n",
       "      <td>1.0</td>\n",
       "    </tr>\n",
       "  </tbody>\n",
       "</table>\n",
       "</div>"
      ],
      "text/plain": [
       "    animal     name  age, years\n",
       "id1    cat   Fluffy         3.0\n",
       "id2    dog    Chewy         5.0\n",
       "id3  mouse  Squeaky         0.5\n",
       "id4    rat   Spotty         1.0"
      ]
     },
     "execution_count": 65,
     "metadata": {},
     "output_type": "execute_result"
    }
   ],
   "source": [
    "# import 'pandas' library\n",
    "import pandas as pd\n",
    "\n",
    "# create dictionary\n",
    "mydict = {'animal':['cat', 'dog','mouse','rat'],\n",
    "         'name':['Fluffy','Chewy','Squeaky','Spotty'],\n",
    "         'age, years': [3,5,0.5,1]}\n",
    "\n",
    "# create dataframe from dictionary\n",
    "df = pd.DataFrame(mydict, index=['id1','id2','id3','id4'])\n",
    "df"
   ]
  },
  {
   "cell_type": "code",
   "execution_count": 66,
   "metadata": {
    "deletable": false,
    "editable": false,
    "nbgrader": {
     "cell_type": "code",
     "checksum": "8b06c4a0d81ac04451a9946ee18b866a",
     "grade": false,
     "grade_id": "cell-a1a140be15a4e9c5",
     "locked": true,
     "schema_version": 3,
     "solution": false,
     "task": false
    }
   },
   "outputs": [
    {
     "name": "stdout",
     "output_type": "stream",
     "text": [
      "animal           cat\n",
      "name          Fluffy\n",
      "age, years         3\n",
      "Name: id1, dtype: object\n",
      "\n",
      " animal           cat\n",
      "name          Fluffy\n",
      "age, years         3\n",
      "Name: id1, dtype: object\n"
     ]
    }
   ],
   "source": [
    "# Accessing DataFrame elements\n",
    "\n",
    "# access row by name with .loc \n",
    "print(df.loc['id1'])\n",
    "\n",
    "# access row by index with .iloc \n",
    "print('\\n', df.iloc[0])"
   ]
  },
  {
   "cell_type": "code",
   "execution_count": 67,
   "metadata": {
    "deletable": false,
    "editable": false,
    "nbgrader": {
     "cell_type": "code",
     "checksum": "fcb9cfb1bd8bb842f5d1017bb75004aa",
     "grade": false,
     "grade_id": "cell-b918e1b61a5d14a5",
     "locked": true,
     "schema_version": 3,
     "solution": false,
     "task": false
    }
   },
   "outputs": [
    {
     "name": "stdout",
     "output_type": "stream",
     "text": [
      "id1      cat\n",
      "id2      dog\n",
      "id3    mouse\n",
      "id4      rat\n",
      "Name: animal, dtype: object\n",
      "\n",
      " id1      cat\n",
      "id2      dog\n",
      "id3    mouse\n",
      "id4      rat\n",
      "Name: animal, dtype: object\n",
      "\n",
      " id1      cat\n",
      "id2      dog\n",
      "id3    mouse\n",
      "id4      rat\n",
      "Name: animal, dtype: object\n"
     ]
    }
   ],
   "source": [
    "# access column by name with .loc \n",
    "print(df.loc[:,'animal'])\n",
    "\n",
    "# accsss column by name without .loc \n",
    "print('\\n', df['animal'])\n",
    "\n",
    "# access column by index with .iloc \n",
    "print('\\n', df.iloc[:,0])"
   ]
  },
  {
   "cell_type": "code",
   "execution_count": 68,
   "metadata": {
    "deletable": false,
    "editable": false,
    "nbgrader": {
     "cell_type": "code",
     "checksum": "09a2d8357fe1a977dc3370f83d4f44d3",
     "grade": false,
     "grade_id": "cell-55fbcd4ebd40d7d1",
     "locked": true,
     "schema_version": 3,
     "solution": false,
     "task": false
    }
   },
   "outputs": [
    {
     "name": "stdout",
     "output_type": "stream",
     "text": [
      "animal       cat\n",
      "name      Fluffy\n",
      "Name: id1, dtype: object\n",
      "\n",
      " animal       cat\n",
      "name      Fluffy\n",
      "Name: id1, dtype: object\n"
     ]
    }
   ],
   "source": [
    "# access specific row and columns by name with .loc\n",
    "print(df.loc['id1',['animal','name']])\n",
    "\n",
    "# access specific row and columns by index with .iloc\n",
    "print('\\n', df.iloc[0,[0,1]])"
   ]
  },
  {
   "cell_type": "code",
   "execution_count": 69,
   "metadata": {
    "deletable": false,
    "editable": false,
    "nbgrader": {
     "cell_type": "code",
     "checksum": "64aabe9ea51e4e71c9e519dfec73eff6",
     "grade": false,
     "grade_id": "cell-99462d741f458ce7",
     "locked": true,
     "schema_version": 3,
     "solution": false,
     "task": false
    }
   },
   "outputs": [
    {
     "name": "stdout",
     "output_type": "stream",
     "text": [
      "Shape of the dataframe:  (600, 2)\n",
      "Number of dataframe rows:  600\n",
      "Number of dataframe columns:  2\n"
     ]
    },
    {
     "data": {
      "text/html": [
       "<div>\n",
       "<style scoped>\n",
       "    .dataframe tbody tr th:only-of-type {\n",
       "        vertical-align: middle;\n",
       "    }\n",
       "\n",
       "    .dataframe tbody tr th {\n",
       "        vertical-align: top;\n",
       "    }\n",
       "\n",
       "    .dataframe thead th {\n",
       "        text-align: right;\n",
       "    }\n",
       "</style>\n",
       "<table border=\"1\" class=\"dataframe\">\n",
       "  <thead>\n",
       "    <tr style=\"text-align: right;\">\n",
       "      <th></th>\n",
       "      <th>0</th>\n",
       "      <th>1</th>\n",
       "    </tr>\n",
       "  </thead>\n",
       "  <tbody>\n",
       "    <tr>\n",
       "      <th>0</th>\n",
       "      <td>0.471435</td>\n",
       "      <td>-1.190976</td>\n",
       "    </tr>\n",
       "    <tr>\n",
       "      <th>1</th>\n",
       "      <td>1.432707</td>\n",
       "      <td>-0.312652</td>\n",
       "    </tr>\n",
       "    <tr>\n",
       "      <th>2</th>\n",
       "      <td>-0.720589</td>\n",
       "      <td>0.887163</td>\n",
       "    </tr>\n",
       "    <tr>\n",
       "      <th>3</th>\n",
       "      <td>0.859588</td>\n",
       "      <td>-0.636524</td>\n",
       "    </tr>\n",
       "    <tr>\n",
       "      <th>4</th>\n",
       "      <td>0.015696</td>\n",
       "      <td>-2.242685</td>\n",
       "    </tr>\n",
       "  </tbody>\n",
       "</table>\n",
       "</div>"
      ],
      "text/plain": [
       "          0         1\n",
       "0  0.471435 -1.190976\n",
       "1  1.432707 -0.312652\n",
       "2 -0.720589  0.887163\n",
       "3  0.859588 -0.636524\n",
       "4  0.015696 -2.242685"
      ]
     },
     "execution_count": 69,
     "metadata": {},
     "output_type": "execute_result"
    }
   ],
   "source": [
    "# loading from .csv file by using pandas DataFrame structure\n",
    "df = pd.read_csv('../../../coursedata/R0_Intro/Data.csv')\n",
    "\n",
    "# check the shape of the dataframe\n",
    "print(\"Shape of the dataframe: \",df.shape)\n",
    "print(\"Number of dataframe rows: \",df.shape[0])\n",
    "print(\"Number of dataframe columns: \",df.shape[1])\n",
    "\n",
    "# print first 5 rows \n",
    "df.head()"
   ]
  },
  {
   "cell_type": "code",
   "execution_count": 70,
   "metadata": {
    "deletable": false,
    "editable": false,
    "nbgrader": {
     "cell_type": "code",
     "checksum": "b7cd4c89424d34bec85d50fa2e010727",
     "grade": false,
     "grade_id": "cell-0210938fe4ebba69",
     "locked": true,
     "schema_version": 3,
     "solution": false,
     "task": false
    }
   },
   "outputs": [
    {
     "data": {
      "text/plain": [
       "array([[ 0.47143516, -1.19097569],\n",
       "       [ 1.43270697, -0.3126519 ],\n",
       "       [-0.72058873,  0.88716294],\n",
       "       ...,\n",
       "       [ 3.16009399,  3.83897138],\n",
       "       [ 3.28939313,  3.68964166],\n",
       "       [ 3.39549918,  4.36393359]])"
      ]
     },
     "execution_count": 70,
     "metadata": {},
     "output_type": "execute_result"
    }
   ],
   "source": [
    "# Convert dataframe to numpy array\n",
    "\n",
    "# DataFrame.values return a Numpy representation of the DataFrame.\n",
    "X = df.values\n",
    "X"
   ]
  },
  {
   "cell_type": "markdown",
   "metadata": {
    "deletable": false,
    "editable": false,
    "nbgrader": {
     "cell_type": "markdown",
     "checksum": "9820daee06abca6b5fd72a0ae425d514",
     "grade": false,
     "grade_id": "cell-8acb59e695a2c829",
     "locked": true,
     "schema_version": 3,
     "solution": false,
     "task": false
    }
   },
   "source": [
    "With `pd.read_<format name>` it is possible to read also excel, json, html, sql and many others types of files:\n",
    "\n",
    "https://pandas.pydata.org/pandas-docs/stable/reference/io.html"
   ]
  },
  {
   "cell_type": "markdown",
   "metadata": {
    "deletable": false,
    "editable": false,
    "nbgrader": {
     "cell_type": "markdown",
     "checksum": "6645b5249ea3b169ccd90f9636dd9849",
     "grade": false,
     "grade_id": "cell-77f6bf742f88060d",
     "locked": true,
     "schema_version": 3,
     "solution": false,
     "task": false
    }
   },
   "source": [
    "<a id=plt></a>\n",
    "\n",
    "### <center>Plotting with Matplotlib</center>\n"
   ]
  },
  {
   "cell_type": "markdown",
   "metadata": {
    "deletable": false,
    "editable": false,
    "nbgrader": {
     "cell_type": "markdown",
     "checksum": "35975f8848fff4fb355e4c3bb7e0e52d",
     "grade": false,
     "grade_id": "cell-d76aed3deb43be40",
     "locked": true,
     "schema_version": 3,
     "solution": false,
     "task": false
    }
   },
   "source": [
    "Matplotlib is a library that provides plotting functionality for Python. Good introductory tutorials for Matplotlib can be found at https://matplotlib.org/tutorials/index.html.\n",
    "\n",
    "A useful command for creating a plot in Python is \n",
    "\n",
    "`fig, axes = plt.subplots()`\n",
    "\n",
    "`plt.subplots()` returns figure and axes (Axes object or array of Axes objects)."
   ]
  },
  {
   "cell_type": "code",
   "execution_count": null,
   "metadata": {
    "deletable": false,
    "editable": false,
    "nbgrader": {
     "cell_type": "code",
     "checksum": "80369c3529035d8eebfdb9da20527037",
     "grade": false,
     "grade_id": "cell-539c3b7db6a88fe6",
     "locked": true,
     "schema_version": 3,
     "solution": false,
     "task": false
    }
   },
   "outputs": [],
   "source": [
    "# Plotting line and scatter plot\n",
    "\n",
    "# the library \"pyplot\" provides functions for plotting data \n",
    "import matplotlib.pyplot as plt\n",
    "\n",
    "# create data to plot (numpy arrays)\n",
    "x1 = np.linspace(10,100,50)\n",
    "y1 = x1**2\n",
    "\n",
    "# set random state for reproducibility \n",
    "np.random.seed(42)\n",
    "\n",
    "# generate 100 realizations of a Gaussian random variable \n",
    "x2 = np.random.rand(100,)\n",
    "y2 = np.random.rand(100,)\n",
    "\n",
    "# create figure and axes objects\n",
    "fig, axes = plt.subplots(1,2)\n",
    "# plot a line in 1st subplot\n",
    "axes[0].plot(x1,y1,c='r')\n",
    "# plot scatter in 2nd subplot\n",
    "axes[1].scatter(x2,y2)\n",
    "\n",
    "# set axes labels for 1st subplot \n",
    "axes[0].set_xlabel(\"x1\")\n",
    "axes[0].set_ylabel(\"y1\")\n",
    "# set axes labels for 2nd subplot \n",
    "axes[1].set_xlabel(\"x2\")\n",
    "axes[1].set_ylabel(\"y2\")\n",
    "# set titles\n",
    "axes[0].set_title('plot 1')\n",
    "axes[1].set_title('plot 2')\n",
    "\n",
    "# adjust subplots so the labels of different axes are not overlapping \n",
    "fig.tight_layout()\n",
    "# display plot\n",
    "plt.show()"
   ]
  },
  {
   "cell_type": "code",
   "execution_count": null,
   "metadata": {
    "deletable": false,
    "editable": false,
    "nbgrader": {
     "cell_type": "code",
     "checksum": "a4f55b7e7bc1757b332b6abb8ba1f4b0",
     "grade": false,
     "grade_id": "cell-a87f207037df7fb4",
     "locked": true,
     "schema_version": 3,
     "solution": false,
     "task": false
    }
   },
   "outputs": [],
   "source": [
    "# Plotting 2D plot with meshgrid \n",
    "\n",
    "# create numpy arrays\n",
    "x = np.arange(-5, 5, 1)\n",
    "y = np.arange(-5, 5, 1)\n",
    "\n",
    "# create the grid\n",
    "xx, yy = np.meshgrid(x, y)\n",
    "\n",
    "# plot the grid \n",
    "plt.plot(xx,yy,marker='.', color='k', linestyle='none')\n",
    "\n",
    "# set axes labels \n",
    "plt.xlabel(\"x\")\n",
    "plt.ylabel(\"y\")\n",
    "# set title\n",
    "plt.title('xy grid', fontweight='bold')\n",
    "\n",
    "# display the plot\n",
    "plt.show()"
   ]
  },
  {
   "cell_type": "markdown",
   "metadata": {
    "deletable": false,
    "editable": false,
    "nbgrader": {
     "cell_type": "markdown",
     "checksum": "c28c313d2e3f4e434cb0e6dfed8db1f6",
     "grade": false,
     "grade_id": "cell-d68caa727b92ff10",
     "locked": true,
     "schema_version": 3,
     "solution": false,
     "task": false
    }
   },
   "source": [
    "<a id=numpy></a>\n",
    "    \n",
    "### <center>Numpy Arrays</center>"
   ]
  },
  {
   "cell_type": "markdown",
   "metadata": {
    "deletable": false,
    "editable": false,
    "nbgrader": {
     "cell_type": "markdown",
     "checksum": "8e5b03d4b275730e715595d43c1b35de",
     "grade": false,
     "grade_id": "cell-650139f78ae4e6f8",
     "locked": true,
     "schema_version": 3,
     "solution": false,
     "task": false
    }
   },
   "source": [
    "The Python library `numpy` provides implementations of many matrix operations as well as other useful features, such as random number generators. Many functions of this library are based on the data type \"numpy array\". A numpy array is an object that stores $N$-dimensional arrays of numbers, where $N$ is the number of dimensions. The shape of a numpy array is given by a sequence of $N$ integers that indicate the number of \"elements\" in each dimension. Maybe the most important special case of numpy arrays is when $N=1$, corresponding to **vectors**, or when $N=2$ for **matrices**. A matrix with $5$ rows and $2$ columns is represented by a numpy array of shape $(5,2)$. \n",
    "\n",
    "Some additional resources to learn more about `numpy` arrays and related operations can be found here:\n",
    "\n",
    "NumPy library page - https://numpy.org/\n",
    "\n",
    "Learn NumPy in 5 minutes video- https://www.youtube.com/watch?v=xECXZ3tyONo\n",
    "\n",
    "Using NumPy arrays allows for **vectorized computation** which allows, in turn, faster code execution: \n",
    "\n",
    "https://www.pythonlikeyoumeanit.com/Module3_IntroducingNumpy/VectorizedOperations.html\n",
    "\n",
    "https://www.oreilly.com/library/view/python-for-data/9781449323592/ch04.html"
   ]
  },
  {
   "cell_type": "markdown",
   "metadata": {
    "deletable": false,
    "editable": false,
    "nbgrader": {
     "cell_type": "markdown",
     "checksum": "346cb8287576c826ba308c6de2f10ceb",
     "grade": false,
     "grade_id": "cell-0be9e53d15c42cc0",
     "locked": true,
     "schema_version": 3,
     "solution": false,
     "task": false
    }
   },
   "source": [
    "**<center><font size=\"4\">Different ways to create NumPy Arrays</font></center>**"
   ]
  },
  {
   "cell_type": "code",
   "execution_count": null,
   "metadata": {
    "deletable": false,
    "editable": false,
    "nbgrader": {
     "cell_type": "code",
     "checksum": "cc1a4771e72a36cbdaa19d07cffc8cc0",
     "grade": false,
     "grade_id": "cell-5226317cfc825c7e",
     "locked": true,
     "schema_version": 3,
     "solution": false,
     "task": false
    }
   },
   "outputs": [],
   "source": [
    "# convert a sequence 0,1,..,9 to a numpy array `myarray1`\n",
    "mylist  = [0,1,2,3,4,5,6,7,8,9]\n",
    "myarray1 = np.array(mylist)\n",
    "\n",
    "# use range() to create a numpy array\n",
    "myarray2 = np.array(range(10))\n",
    "\n",
    "# use np.arange() function to create a numpy array\n",
    "myarray3 = np.arange(10)\n",
    "\n",
    "# print values of the arrays\n",
    "myarray1, myarray2, myarray3"
   ]
  },
  {
   "cell_type": "code",
   "execution_count": null,
   "metadata": {
    "deletable": false,
    "editable": false,
    "nbgrader": {
     "cell_type": "code",
     "checksum": "89a6a4f09bffe98a96c518a181c51aac",
     "grade": false,
     "grade_id": "cell-7edc51c9b5ec729b",
     "locked": true,
     "schema_version": 3,
     "solution": false,
     "task": false
    }
   },
   "outputs": [],
   "source": [
    "# create an array (6 rows, 3 columns) with zeros\n",
    "zeroarray = np.zeros((4,3)) \n",
    "\n",
    "# create an array (6 rows, 3 columns) with ones\n",
    "onesarray = np.ones((4,3))\n",
    "\n",
    "print(zeroarray,'\\n')\n",
    "print(onesarray)"
   ]
  },
  {
   "cell_type": "code",
   "execution_count": null,
   "metadata": {
    "deletable": false,
    "editable": false,
    "nbgrader": {
     "cell_type": "code",
     "checksum": "241bafa6c5dee1889bb096738a7b48a5",
     "grade": false,
     "grade_id": "cell-eb7d7e02ff62dfa9",
     "locked": true,
     "schema_version": 3,
     "solution": false,
     "task": false
    }
   },
   "outputs": [],
   "source": [
    "# Pass lists directly to create 2D array\n",
    "myarray = np.array([[1,2,3], [4,5,6]])\n",
    "\n",
    "# Check the array dimensions with .shape attribute (rows, columns)\n",
    "print(\"Number of rows: {} \\nNumber of columns: {}\".format(myarray.shape[0], myarray.shape[1]))\n",
    "print(myarray)"
   ]
  },
  {
   "cell_type": "markdown",
   "metadata": {
    "deletable": false,
    "editable": false,
    "nbgrader": {
     "cell_type": "markdown",
     "checksum": "06e2bc94731bc3219f0da95844507c5b",
     "grade": false,
     "grade_id": "cell-0c309178e4c5dea0",
     "locked": true,
     "schema_version": 3,
     "solution": false,
     "task": false
    }
   },
   "source": [
    "<div class=\" alert alert-danger\"> \n",
    "    \n",
    "<center><font size=\"5\"><b>Caution!</b></font></center>\n",
    "    \n",
    "<p><center><font size=\"4\">A numpy array of shape (n,1) is different from a numpy array of shape (n,)!</font></center></p>\n",
    "       \n",
    "</div>"
   ]
  },
  {
   "cell_type": "code",
   "execution_count": 76,
   "metadata": {
    "deletable": false,
    "editable": false,
    "nbgrader": {
     "cell_type": "code",
     "checksum": "1a75294bbe7134b3e558005fd1b29c9e",
     "grade": false,
     "grade_id": "cell-7fa244c152f81bdb",
     "locked": true,
     "schema_version": 3,
     "solution": false,
     "task": false
    }
   },
   "outputs": [
    {
     "name": "stdout",
     "output_type": "stream",
     "text": [
      "`myarray1` is 1 - dimensional np.array of shape (10,)\n",
      "`myarray2` is 2 - dimensional np.array of shape (10, 1)\n"
     ]
    }
   ],
   "source": [
    "# Note! Array of shape (n,1) is not equal to the array of shape (n,)\n",
    "# Use .shape attribute to check the array's dimensions\n",
    "# Use .reshape() function to get the array with desired dimensions\n",
    "\n",
    "myarray1 = np.array(range(10))\n",
    "myarray2 = np.array(range(10)).reshape(-1,1)\n",
    "\n",
    "print(\"`myarray1` is\",  myarray1.ndim,\"- dimensional np.array of shape\", myarray1.shape)\n",
    "print(\"`myarray2` is\",  myarray2.ndim,\"- dimensional np.array of shape\", myarray2.shape)"
   ]
  },
  {
   "cell_type": "markdown",
   "metadata": {
    "deletable": false,
    "editable": false,
    "nbgrader": {
     "cell_type": "markdown",
     "checksum": "86553a8c1be11c0c5bd668087d922b10",
     "grade": false,
     "grade_id": "cell-06c61cfdbb9c445e",
     "locked": true,
     "schema_version": 3,
     "solution": false,
     "task": false
    }
   },
   "source": [
    "**<center><font size=\"4\">Slicing and Combining NumPy Arrays</font></center>**"
   ]
  },
  {
   "cell_type": "code",
   "execution_count": 77,
   "metadata": {
    "deletable": false,
    "editable": false,
    "nbgrader": {
     "cell_type": "code",
     "checksum": "972e960a4d82f34c62b525533ec72ae7",
     "grade": false,
     "grade_id": "cell-6be1f48f6a639d42",
     "locked": true,
     "schema_version": 3,
     "solution": false,
     "task": false
    }
   },
   "outputs": [
    {
     "name": "stdout",
     "output_type": "stream",
     "text": [
      "[10  9  8  7  6  5  4  3  2  1]\n",
      "First element of the array: 10\n",
      "\n",
      "[[1 2 3]\n",
      " [4 5 6]]\n",
      "2nd row, 3rd column element of the array: 6\n",
      "\n",
      "[[1 2 3]\n",
      " [4 5 6]]\n",
      "Values >2: [3 4 5 6]\n",
      "\n"
     ]
    }
   ],
   "source": [
    "# Access element of the array by index\n",
    "# Note! Indexing starts with 0\n",
    "\n",
    "# 1D array\n",
    "myarray = np.arange(10,0,-1)\n",
    "print(myarray)\n",
    "print(\"First element of the array: {}\\n\".format(myarray[0]))\n",
    "\n",
    "# 2D array\n",
    "myarray = np.array([[1,2,3],[4,5,6]])\n",
    "print(myarray)\n",
    "print(\"2nd row, 3rd column element of the array: {}\\n\".format(myarray[1,2]))\n",
    "\n",
    "# Conditional indexing - print values of the array larger than 2\n",
    "myarray = np.array([[1,2,3],[4,5,6]])\n",
    "print(myarray)\n",
    "print(\"Values >2: {}\\n\".format(myarray[myarray>2]))"
   ]
  },
  {
   "cell_type": "code",
   "execution_count": 78,
   "metadata": {
    "deletable": false,
    "editable": false,
    "nbgrader": {
     "cell_type": "code",
     "checksum": "a13d5c0a05c928ec63e09f2cf4c46fc7",
     "grade": false,
     "grade_id": "cell-c0f0fb68db92a022",
     "locked": true,
     "schema_version": 3,
     "solution": false,
     "task": false
    }
   },
   "outputs": [
    {
     "name": "stdout",
     "output_type": "stream",
     "text": [
      "\n",
      " [[ 0  1  2  3  4]\n",
      " [ 5  6  7  8  9]\n",
      " [10 11 12 13 14]\n",
      " [15 16 17 18 19]]    array shape is  (4, 5)\n",
      "\n",
      "Sliced array:\n",
      " [[1 2]\n",
      " [6 7]]\n"
     ]
    }
   ],
   "source": [
    "# Slicing numpy array\n",
    "# create numpy array with shape=(4,5)\n",
    "myarray = np.arange(20).reshape(4,5)\n",
    "\n",
    "# print the values of the array\n",
    "print('\\n',myarray, \"   array shape is \", myarray.shape)\n",
    "# print the values of the array located at the rows 1,2 and columns 2,3\n",
    "print(\"\\nSliced array:\\n\", myarray[:2,1:3])"
   ]
  },
  {
   "cell_type": "markdown",
   "metadata": {
    "deletable": false,
    "editable": false,
    "nbgrader": {
     "cell_type": "markdown",
     "checksum": "26c8255457cfea836ee08e98c772bb49",
     "grade": false,
     "grade_id": "cell-27fee338aced4752",
     "locked": true,
     "schema_version": 3,
     "solution": false,
     "task": false
    }
   },
   "source": [
    "Some more examples of numpy array slicing:"
   ]
  },
  {
   "cell_type": "markdown",
   "metadata": {
    "deletable": false,
    "editable": false,
    "nbgrader": {
     "cell_type": "markdown",
     "checksum": "20a059e55a6e5d5d7d53d194a690bbd2",
     "grade": false,
     "grade_id": "cell-85de21debc74ef79",
     "locked": true,
     "points": 0,
     "schema_version": 3,
     "solution": false,
     "task": true
    }
   },
   "source": [
    "<img src=\"../../../coursedata/R0_Intro/npslice.png\" style=\"height: 300px;\"/>\n"
   ]
  },
  {
   "cell_type": "markdown",
   "metadata": {
    "deletable": false,
    "editable": false,
    "nbgrader": {
     "cell_type": "markdown",
     "checksum": "5a242a079d21acb9d2b94e8f7c84f191",
     "grade": false,
     "grade_id": "cell-7c6d52826e35d3ff",
     "locked": true,
     "schema_version": 3,
     "solution": false,
     "task": false
    }
   },
   "source": [
    "**<center><font size=\"4\">Stacking NumPy Arrays</font></center>**"
   ]
  },
  {
   "cell_type": "code",
   "execution_count": 79,
   "metadata": {
    "deletable": false,
    "editable": false,
    "nbgrader": {
     "cell_type": "code",
     "checksum": "2aae02821ed213f5eea687a937b4316b",
     "grade": false,
     "grade_id": "cell-92b4df90504eaaa3",
     "locked": true,
     "schema_version": 3,
     "solution": false,
     "task": false
    }
   },
   "outputs": [
    {
     "name": "stdout",
     "output_type": "stream",
     "text": [
      "[[0. 0. 0. 0. 0.]\n",
      " [0. 0. 0. 0. 0.]\n",
      " [2. 2. 2. 2. 2.]\n",
      " [2. 2. 2. 2. 2.]] \n",
      "\n",
      "[[0. 0. 0. 0. 0. 2. 2. 2. 2. 2.]\n",
      " [0. 0. 0. 0. 0. 2. 2. 2. 2. 2.]]\n"
     ]
    }
   ],
   "source": [
    "# Stack arrays vertically (row wise)\n",
    "myarray = np.zeros((2,5))\n",
    "print(np.vstack([myarray, myarray+2]),'\\n')\n",
    "\n",
    "# Stack arrays horizontally (column wise)\n",
    "myarray = np.zeros((2,5))\n",
    "print(np.hstack([myarray, myarray+2]))"
   ]
  },
  {
   "cell_type": "markdown",
   "metadata": {
    "deletable": false,
    "editable": false,
    "nbgrader": {
     "cell_type": "markdown",
     "checksum": "12b4b0ae4f7cf7091935ce98695dbe97",
     "grade": false,
     "grade_id": "cell-8caa32c421e304b7",
     "locked": true,
     "schema_version": 3,
     "solution": false,
     "task": false
    }
   },
   "source": [
    "**<center><font size=\"4\">Viewing and Copying NumPy Arrays</font></center>**\n",
    "\n",
    "Consider a numpy array `a` of shape (5,1). Assume you create a slice `b` which consists of the first two elements of `a`: `b=a[:2]`. It is then important to be aware that the variable `b` is merely a pointer (or reference) to the first two entries of `a`. Thus, when you modify the slice by `b[0] = 10`, you will simultaneously modify the first entry of `a`. If you want the slice to become a new object you need to copy the slice using the function `copy()`. "
   ]
  },
  {
   "cell_type": "markdown",
   "metadata": {
    "deletable": false,
    "editable": false,
    "nbgrader": {
     "cell_type": "markdown",
     "checksum": "7132733472cd1855bd99018ccd1e1149",
     "grade": false,
     "grade_id": "cell-b63d6dcb0ff68ad3",
     "locked": true,
     "schema_version": 3,
     "solution": false,
     "task": false
    }
   },
   "source": [
    "<div class=\" alert alert-danger\"> \n",
    "    \n",
    "<center><font size=\"5\"><b>Caution!</b></font></center>\n",
    "    \n",
    "\n",
    "<p><center><font size=\"4\">Modification of an array slice will modify the original array</font></center></p>\n",
    "    \n",
    "</div>"
   ]
  },
  {
   "cell_type": "code",
   "execution_count": 80,
   "metadata": {
    "deletable": false,
    "editable": false,
    "nbgrader": {
     "cell_type": "code",
     "checksum": "9669c19320e6aee74e7e3241f90d0f40",
     "grade": false,
     "grade_id": "cell-a78afd9e85c3a67f",
     "locked": true,
     "schema_version": 3,
     "solution": false,
     "task": false
    }
   },
   "outputs": [
    {
     "name": "stdout",
     "output_type": "stream",
     "text": [
      "Original array:  [0 1 2 3 4 5 6 7 8 9]\n",
      "\n",
      "Slice of the array:  [5 6 7 8 9]\n",
      "\n",
      "Modified slice of the array:  [0 0 0 0 0]\n",
      "\n",
      "Original array:  [0 1 2 3 4 0 0 0 0 0]\n"
     ]
    }
   ],
   "source": [
    "# Slice view, creates view of the array and any modification of it will update that array.\n",
    "\n",
    "# create the array \n",
    "myarray = np.arange(10)\n",
    "# print values of the original array\n",
    "print(\"Original array: \", myarray)\n",
    "\n",
    "# assign the slice (view of the array) to a new variable 'myslice'\n",
    "myslice = myarray[5:]\n",
    "# print values of variable 'myslice'\n",
    "print(\"\\nSlice of the array: \", myslice)\n",
    "\n",
    "# modify variable 'myslice' - assign value zero to all entries of the array\n",
    "myslice[:] = 0\n",
    "\n",
    "# print values of the original array and modified variable 'myslice'\n",
    "print(\"\\nModified slice of the array: \", myslice)\n",
    "print(\"\\nOriginal array: \", myarray)"
   ]
  },
  {
   "cell_type": "code",
   "execution_count": 81,
   "metadata": {
    "deletable": false,
    "editable": false,
    "nbgrader": {
     "cell_type": "code",
     "checksum": "33e46b22d1a61dc3764eb013a7611e7c",
     "grade": false,
     "grade_id": "cell-3b5d84fa3d533808",
     "locked": true,
     "schema_version": 3,
     "solution": false,
     "task": false
    }
   },
   "outputs": [
    {
     "name": "stdout",
     "output_type": "stream",
     "text": [
      "Original array:  [0 1 2 3 4 5 6 7 8 9]\n",
      "\n",
      "Copy of the array:  [5 6 7 8 9]\n",
      "\n",
      "Modified copy of the array:  [0 0 0 0 0]\n",
      "\n",
      "Original array:  [0 1 2 3 4 5 6 7 8 9]\n"
     ]
    }
   ],
   "source": [
    "# Copying array, creates a different object, original array is not modified.\n",
    "\n",
    "# create the array \n",
    "myarray = np.arange(10)\n",
    "# print values of the original array\n",
    "print(\"Original array: \", myarray)\n",
    "\n",
    "# assign the slice (copy of the array) to a new variable 'myslice'\n",
    "myslice = np.copy(myarray[5:])\n",
    "# print values of variable 'myslice'\n",
    "print(\"\\nCopy of the array: \", myslice)\n",
    "\n",
    "# modify variable 'myslice'\n",
    "myslice[:] = 0\n",
    "\n",
    "# print values of the original array and modified variable 'myslice'\n",
    "print(\"\\nModified copy of the array: \", myslice)\n",
    "print(\"\\nOriginal array: \", myarray)"
   ]
  },
  {
   "cell_type": "markdown",
   "metadata": {
    "deletable": false,
    "editable": false,
    "nbgrader": {
     "cell_type": "markdown",
     "checksum": "d0918a0d19151b010a4718cb29c384ea",
     "grade": false,
     "grade_id": "cell-17b5375b867b0625",
     "locked": true,
     "schema_version": 3,
     "solution": false,
     "task": false
    }
   },
   "source": [
    "**You can find further reading about view and copy of NumPy Arrays here:**\n",
    "\n",
    "https://scipy-cookbook.readthedocs.io/items/ViewsVsCopies.html"
   ]
  },
  {
   "cell_type": "markdown",
   "metadata": {
    "deletable": false,
    "editable": false,
    "nbgrader": {
     "cell_type": "markdown",
     "checksum": "4615ba0c430342c4b51e6d5cde206ece",
     "grade": false,
     "grade_id": "cell-8e5df0d20ef09592",
     "locked": true,
     "schema_version": 3,
     "solution": false,
     "task": false
    }
   },
   "source": [
    "**<center><font size=\"4\">Operations on NumPy Arrays</font></center>**"
   ]
  },
  {
   "cell_type": "code",
   "execution_count": 82,
   "metadata": {
    "deletable": false,
    "editable": false,
    "nbgrader": {
     "cell_type": "code",
     "checksum": "b424f25c56cf3e5ae8d6124f85f4c017",
     "grade": false,
     "grade_id": "cell-75b29522804f766d",
     "locked": true,
     "schema_version": 3,
     "solution": false,
     "task": false
    }
   },
   "outputs": [
    {
     "name": "stdout",
     "output_type": "stream",
     "text": [
      "[0 1 2 3 4 5 6 7 8 9] [20 21 22 23 24 25 26 27 28 29]\n",
      "[20 22 24 26 28 30 32 34 36 38]\n",
      "[-20 -20 -20 -20 -20 -20 -20 -20 -20 -20]\n",
      "[  0  21  44  69  96 125 156 189 224 261]\n",
      "[0.         0.04761905 0.09090909 0.13043478 0.16666667 0.2\n",
      " 0.23076923 0.25925926 0.28571429 0.31034483]\n",
      "[ 0  1  4  9 16 25 36 49 64 81]\n"
     ]
    }
   ],
   "source": [
    "# create two numpy arrays\n",
    "x = np.arange(10)\n",
    "y = np.arange(20,30)\n",
    "print(x, y)\n",
    "\n",
    "# elementwise addition and substraction\n",
    "print(x + y)\n",
    "print(x - y)\n",
    "\n",
    "# elementwise multiplication and division\n",
    "print(x * y)\n",
    "print(x / y)\n",
    "\n",
    "# elementwise power\n",
    "print(x**2)"
   ]
  },
  {
   "cell_type": "code",
   "execution_count": 83,
   "metadata": {
    "deletable": false,
    "editable": false,
    "nbgrader": {
     "cell_type": "code",
     "checksum": "73ceb695fe269c96827b157ab8dc0106",
     "grade": false,
     "grade_id": "cell-4526628d2fbe4ea1",
     "locked": true,
     "schema_version": 3,
     "solution": false,
     "task": false
    }
   },
   "outputs": [
    {
     "name": "stdout",
     "output_type": "stream",
     "text": [
      "[10  9  8  7  6  5  4  3  2  1]\n",
      "\n",
      "Sum of the array:  55\n",
      "\n",
      "Maximum and minimun values: 10, 1 \n",
      "Indices of maximum and minimum values: 0, 9\n"
     ]
    }
   ],
   "source": [
    "# create numpy array\n",
    "x = np.arange(10,0,-1)\n",
    "\n",
    "# useful numpy array functions:\n",
    "# sum of elements\n",
    "x_sum = x.sum()\n",
    "\n",
    "# maximum and minimum values\n",
    "x_max = x.max()\n",
    "x_min = x.min()\n",
    "\n",
    "# indices of maximum and minimum values\n",
    "x_indmax = x.argmax()\n",
    "x_indmin = x.argmin()\n",
    "\n",
    "print(x)\n",
    "print(\"\\nSum of the array: \", x_sum) \n",
    "print(\"\\nMaximum and minimun values: {}, {} \\nIndices of maximum and minimum values: {}, {}\".format(\n",
    "      x_max, x_min, x_indmax, x_indmin))"
   ]
  },
  {
   "cell_type": "markdown",
   "metadata": {
    "deletable": false,
    "editable": false,
    "nbgrader": {
     "cell_type": "markdown",
     "checksum": "7dd37869152d654977650e2a05c1f02b",
     "grade": false,
     "grade_id": "cell-aeb2e449a5c7fc38",
     "locked": true,
     "schema_version": 3,
     "solution": false,
     "task": false
    }
   },
   "source": [
    "**<center><font size=\"4\">Broadcasting</font></center>**"
   ]
  },
  {
   "cell_type": "markdown",
   "metadata": {
    "deletable": false,
    "editable": false,
    "nbgrader": {
     "cell_type": "markdown",
     "checksum": "9ea9f9527d6b6374e3c2548d0cb63cda",
     "grade": false,
     "grade_id": "cell-257d6685c907f670",
     "locked": true,
     "schema_version": 3,
     "solution": false,
     "task": false
    }
   },
   "source": [
    "Sometimes we need to add the same constant value to all entries of a numpy array. Consider a numpy array `a` of arbitrary size and a numpy array `b` containing a single number. We would like to be able to write `a+b` to get a numpy array whose entries are given by adding the value in `b` to all entries in `a`. The concept of \"broadcasting\" for numpy arrays makes this possible! \n",
    "\n",
    "Find more information here:\n",
    "\n",
    "https://docs.scipy.org/doc/numpy/user/basics.broadcasting.html\n",
    "\n",
    "https://numpy.org/devdocs/user/theory.broadcasting.html"
   ]
  },
  {
   "cell_type": "code",
   "execution_count": 84,
   "metadata": {
    "deletable": false,
    "editable": false,
    "nbgrader": {
     "cell_type": "code",
     "checksum": "ee95c060d2b8aada64274f33dff51f94",
     "grade": false,
     "grade_id": "cell-09dfeb5d3d9516b9",
     "locked": true,
     "schema_version": 3,
     "solution": false,
     "task": false
    }
   },
   "outputs": [
    {
     "name": "stdout",
     "output_type": "stream",
     "text": [
      "x = \n",
      " [[ 1  2  3]\n",
      " [ 4  5  6]\n",
      " [ 7  8  9]\n",
      " [10 11 12]]\n",
      "\n",
      " y =  [[1. 1. 1.]]\n",
      "\n",
      "\n",
      " x+y = \n",
      " [[ 2.  3.  4.]\n",
      " [ 5.  6.  7.]\n",
      " [ 8.  9. 10.]\n",
      " [11. 12. 13.]]\n"
     ]
    }
   ],
   "source": [
    "# It is possible to do operations with different size arrays - broadcasting\n",
    "# create two numpy arrays\n",
    "x = np.array([[1,2,3], [4,5,6], [7,8,9], [10,11,12]])\n",
    "y = np.ones((1,3))\n",
    "\n",
    "# display the values of two arrays\n",
    "print(\"x = \\n\", x)\n",
    "print(\"\\n\", \"y = \", y)\n",
    "\n",
    "# print the result of arrays addition\n",
    "print(\"\\n\\n x+y = \\n\", x+y)"
   ]
  },
  {
   "cell_type": "markdown",
   "metadata": {
    "deletable": false,
    "editable": false,
    "nbgrader": {
     "cell_type": "markdown",
     "checksum": "c823191a2b6ed0e0733682422c161a86",
     "grade": false,
     "grade_id": "cell-58af72798bf2ef88",
     "locked": true,
     "schema_version": 3,
     "solution": false,
     "task": false
    }
   },
   "source": [
    "<a id='STnumpy'></a>\n",
    "<div class=\" alert alert-warning\">\n",
    "   <font size=\"4\"> <b>Student task.</b> Numpy Arrays</font>\n",
    "    \n",
    "1. Create numpy array `x1` of shape (3,4) with `np.arange(12)`. \n",
    "2. Store values of first two columns and all rows in numpy array `x2`.\n",
    "3. Multiply scalar 5 to `x2`.\n",
    "4. Add two column of zeros as the last two column of `x2`.\n",
    "6. Add up `x1` and `x2` and store the result in `x3`.\n",
    "    \n",
    "</div>"
   ]
  },
  {
   "cell_type": "code",
   "execution_count": null,
   "metadata": {
    "deletable": false,
    "nbgrader": {
     "cell_type": "code",
     "checksum": "48efdc08c1f7e19e84e6a26f03e4c99c",
     "grade": false,
     "grade_id": "cell-822bd01d546c0ae3",
     "locked": false,
     "schema_version": 3,
     "solution": true,
     "task": false
    }
   },
   "outputs": [],
   "source": [
    "### STUDENT TASK ###\n",
    "import numpy as np\n",
    "x1 = np.arange(12).reshape(3,4)\n",
    "x2 = np.copy(x1[:,1:3])\n",
    "x2 = x2 * 5\n",
    "x2 = np.hstack([x2,x2-x2])\n",
    "x3 = x1 + x2\n",
    "\n",
    "# remove the line raise NotImplementedError() before testing your solution and submitting code\n",
    "# YOUR CODE HERE\n",
    "# raise NotImplementedError()"
   ]
  },
  {
   "cell_type": "code",
   "execution_count": null,
   "metadata": {
    "deletable": false,
    "editable": false,
    "nbgrader": {
     "cell_type": "code",
     "checksum": "9b0b6163fc738a22e6ae483ee8aafd19",
     "grade": true,
     "grade_id": "cell-d06c5cce9f1ab37a",
     "locked": true,
     "points": 0,
     "schema_version": 3,
     "solution": false,
     "task": false
    }
   },
   "outputs": [],
   "source": [
    "# Perform sanity check on the results\n",
    "assert x1.shape==(3,4), \"the shape of x1 is wrong\"\n",
    "assert x2.shape==(3,4), \"the shape of x2 is wrong\"\n",
    "\n",
    "print('Sanity checks passed!')\n"
   ]
  },
  {
   "cell_type": "markdown",
   "metadata": {
    "deletable": false,
    "editable": false,
    "nbgrader": {
     "cell_type": "markdown",
     "checksum": "61e60f5f5a85a7e54368056844a60d49",
     "grade": false,
     "grade_id": "cell-9dc7732dee6f5f51",
     "locked": true,
     "schema_version": 3,
     "solution": false,
     "task": false
    }
   },
   "source": [
    "<a id=vectors></a>\n",
    "    \n",
    "### <center>Vectors and Matrices</center>"
   ]
  },
  {
   "cell_type": "markdown",
   "metadata": {
    "deletable": false,
    "editable": false,
    "nbgrader": {
     "cell_type": "markdown",
     "checksum": "692bdcd69bf72f9f752020c8a6f39431",
     "grade": false,
     "grade_id": "cell-f1d1a452730e64f7",
     "locked": true,
     "schema_version": 3,
     "solution": false,
     "task": false
    }
   },
   "source": [
    "It is often useful to represent data in a numerical format as vectors or matrices. For example, suppose we have collected weather data (daily minimum, maximum, and average temperatures) for many days. In that case, we can represent observations for one day as a vector (or as NumPy array in Python code) and stack all observations in a matrix. Each row of this matrix would contain the weather observations for one day and each column - the minimum, maximum, or average temperatures across all days.\n",
    "\n",
    "We will soon present the mathematical notation, and the basic operations commonly used when working with vectors and matrices. If the concepts seem difficult to grasp, you can start by watching the animated video series [\"Essence of linear algebra\"](https://www.youtube.com/watch?v=kjBOesZCoqc&list=PL0-GT3co4r2y2YErbmuJw2L5tW4Ew2O5B) from 3Blue1Brown. For more detailed but still accessible explanations, you can check [\"Mathematics for Machine Learning\"](https://mml-book.github.io) book by M.P.Deisenroth, A.A.Faisal, and C.S.Ong (PDF is available on the website)."
   ]
  },
  {
   "cell_type": "markdown",
   "metadata": {
    "deletable": false,
    "editable": false,
    "nbgrader": {
     "cell_type": "markdown",
     "checksum": "b0eadb2a376a6c46c61d8e1aacd57619",
     "grade": false,
     "grade_id": "cell-024278f6d0c14818",
     "locked": true,
     "schema_version": 3,
     "solution": false,
     "task": false
    }
   },
   "source": [
    "**<center><font size=\"4\">Vectors</font></center>**\n",
    "\n",
    "We denote vectors with lower-case bold letters, e.g. vector $\\mathbf{x}$ consisting of $n$ elements:\n",
    "\n",
    "$\\mathbf{x}= \\begin{pmatrix}\n",
    "x_{1} \\\\ x_{2} \\\\ \\vdots \\\\ x_{n}\n",
    "\\end{pmatrix} $\n",
    "\n",
    "Traditionally vectors are represented as column vectors (elements of the vector stacked vertically). Also, vectors sometimes represented as  $\\mathbf{x} = \\big(x_{1},\\ldots,x_{n}\\big)^{T}$ or a transpose (see below) of a row vector, just for convenience.\\\n",
    "Below, you can see how to create vector $\\mathbf{x}$ consisting of $n$ elements, where  $n=5$ with Python `numpy` library. "
   ]
  },
  {
   "cell_type": "code",
   "execution_count": 87,
   "metadata": {
    "deletable": false,
    "editable": false,
    "nbgrader": {
     "cell_type": "code",
     "checksum": "ac5d995b5a28d358cbf0a9cfd4533fb3",
     "grade": false,
     "grade_id": "cell-a5cb704a1828265c",
     "locked": true,
     "schema_version": 3,
     "solution": false,
     "task": false
    }
   },
   "outputs": [
    {
     "name": "stdout",
     "output_type": "stream",
     "text": [
      "[1 2 3 4 5]\n"
     ]
    }
   ],
   "source": [
    "# import Python library\n",
    "import numpy as np\n",
    "\n",
    "# create numpy array\n",
    "x = np.array([1,2,3,4,5])\n",
    "print(x)"
   ]
  },
  {
   "cell_type": "markdown",
   "metadata": {
    "deletable": false,
    "editable": false,
    "nbgrader": {
     "cell_type": "markdown",
     "checksum": "19a6d4508a0c7940728ec6559339f182",
     "grade": false,
     "grade_id": "cell-a21d0c77dbf0ae05",
     "locked": true,
     "schema_version": 3,
     "solution": false,
     "task": false
    }
   },
   "source": [
    "The $i$:th entry of vector $\\mathbf{x}$ is denoted as $x_{i}$, e.g. first element of vector $\\mathbf{x}$ is $x_{1}$.\n",
    "\n",
    "**Note!** Indexing in Python starts from zero!\n",
    "\n"
   ]
  },
  {
   "cell_type": "code",
   "execution_count": 88,
   "metadata": {
    "deletable": false,
    "editable": false,
    "nbgrader": {
     "cell_type": "code",
     "checksum": "6fa1de734e3d48ac46f9c74f6a8b182c",
     "grade": false,
     "grade_id": "cell-dcd6c6df614b1159",
     "locked": true,
     "schema_version": 3,
     "solution": false,
     "task": false
    }
   },
   "outputs": [
    {
     "name": "stdout",
     "output_type": "stream",
     "text": [
      "First element of vector x = 1\n"
     ]
    }
   ],
   "source": [
    "# print first element of vector x\n",
    "print(\"First element of vector x =\", x[0])"
   ]
  },
  {
   "cell_type": "markdown",
   "metadata": {
    "deletable": false,
    "editable": false,
    "nbgrader": {
     "cell_type": "markdown",
     "checksum": "577b41dec76ab9e431105172273503f8",
     "grade": false,
     "grade_id": "cell-5ae2d12b3c8ae2cd",
     "locked": true,
     "schema_version": 3,
     "solution": false,
     "task": false
    }
   },
   "source": [
    "**<center><font size=\"4\">Dot Product of two vectors</font></center>**\n",
    "\n",
    "The [dot product](https://en.wikipedia.org/wiki/Dot_product) between two vectors, i.e., one-dimensional NumPy arrays, of the same length is defined as\n",
    "\n",
    "\n",
    "\\begin{equation}\n",
    "\\mathbf{x}^{T}\\mathbf{y} =\n",
    "\\big({x}_{1},{x}_{2},\\ldots,{x}_{m}\\big)  \\cdot \\begin{pmatrix}{y}_{1} \\\\ {y}_{2} \\\\ \\vdots \\\\ {y}_{m} \\end{pmatrix} = \n",
    "{x}_{1}{y}_{1}+{x}_{2}{y}_{2}+\\ldots+{x}_{m}{y}_{m}\n",
    "\\end{equation} \n",
    "\n",
    "Geometrically, it is the product of the Euclidean distances of the two vectors and the cosine of the angle between them. \n",
    "\n",
    "The dot product is also defined for NumPy arrays with more than one dimension (see [numpy documentation](https://numpy.org/doc/stable/reference/generated/numpy.dot.html?highlight=dot#numpy.dot) for more info)."
   ]
  },
  {
   "cell_type": "code",
   "execution_count": 89,
   "metadata": {
    "deletable": false,
    "editable": false,
    "nbgrader": {
     "cell_type": "code",
     "checksum": "e0c739de24e23109ef504a78ad8ae81a",
     "grade": false,
     "grade_id": "cell-48cb72481229c603",
     "locked": true,
     "schema_version": 3,
     "solution": false,
     "task": false
    }
   },
   "outputs": [
    {
     "name": "stdout",
     "output_type": "stream",
     "text": [
      "[0 1 2] [3 4 5]\n"
     ]
    },
    {
     "data": {
      "text/plain": [
       "14"
      ]
     },
     "execution_count": 89,
     "metadata": {},
     "output_type": "execute_result"
    }
   ],
   "source": [
    "# create two numpy arrays\n",
    "x = np.arange(3)\n",
    "y = np.arange(3,6)\n",
    "\n",
    "# display the values of two arrays\n",
    "print(x,y)\n",
    "\n",
    "# dot product 0*3+1*4+2*5\n",
    "x.dot(y) "
   ]
  },
  {
   "cell_type": "markdown",
   "metadata": {
    "deletable": false,
    "editable": false,
    "nbgrader": {
     "cell_type": "markdown",
     "checksum": "bbde189405f3431120d22b33d0f9d4bf",
     "grade": false,
     "grade_id": "cell-1c4c72d29397e176",
     "locked": true,
     "schema_version": 3,
     "solution": false,
     "task": false
    }
   },
   "source": [
    "**<center><font size=\"4\">Outer product of two vectors</font></center>**\n",
    "\n",
    "The [outer product](https://en.wikipedia.org/wiki/Outer_product) between two vectors, i.e., one-dimensional NumPy arrays, of the same length is defined as\n",
    "\n",
    "\n",
    "\\begin{equation}\n",
    "\\mathbf{x}\\mathbf{y}^{T} =\n",
    "\\begin{pmatrix}{x}_{1} \\\\ {x}_{2} \\\\ \\vdots \\\\ {x}_{m} \\end{pmatrix}  \\cdot \\big({y}_{1},{y}_{2},\\ldots,{y}_{m}\\big) =\n",
    "\\begin{pmatrix}\n",
    "  x_1y_1& x_1y_2& \\ldots & x_1y_m \\\\\n",
    "  x_2y_1& x_2y_2& \\ldots & x_2y_m \\\\\n",
    "  \\vdots & \\vdots & \\ddots & \\vdots \\\\\n",
    " x_my_1& x_my_2& \\ldots & x_my_m\n",
    "\\end{pmatrix} \n",
    "\\end{equation} \n",
    "\n",
    "\n",
    "As you can see, the result of the outer product is a matrix, whereas the output of the dot product is scalar. "
   ]
  },
  {
   "cell_type": "code",
   "execution_count": 90,
   "metadata": {
    "deletable": false,
    "editable": false,
    "nbgrader": {
     "cell_type": "code",
     "checksum": "2894dc6349542a833582fc1902b10433",
     "grade": false,
     "grade_id": "cell-1cfa2c7e113f1f64",
     "locked": true,
     "schema_version": 3,
     "solution": false,
     "task": false
    }
   },
   "outputs": [
    {
     "name": "stdout",
     "output_type": "stream",
     "text": [
      "[0 1 2] [3 4 5]\n"
     ]
    },
    {
     "data": {
      "text/plain": [
       "array([[ 0,  0,  0],\n",
       "       [ 3,  4,  5],\n",
       "       [ 6,  8, 10]])"
      ]
     },
     "execution_count": 90,
     "metadata": {},
     "output_type": "execute_result"
    }
   ],
   "source": [
    "# create two numpy arrays\n",
    "x = np.arange(3)\n",
    "y = np.arange(3,6)\n",
    "\n",
    "# display the values of two arrays\n",
    "print(x,y)\n",
    "# outer product\n",
    "np.outer(x,y)"
   ]
  },
  {
   "cell_type": "markdown",
   "metadata": {
    "deletable": false,
    "editable": false,
    "nbgrader": {
     "cell_type": "markdown",
     "checksum": "e3cfa944cb346ebc1a71c8ec33313280",
     "grade": false,
     "grade_id": "cell-47bcb5f4b8ac5bd7",
     "locked": true,
     "schema_version": 3,
     "solution": false,
     "task": false
    }
   },
   "source": [
    "**<center><font size=\"4\">Matrices</font></center>**"
   ]
  },
  {
   "cell_type": "markdown",
   "metadata": {
    "deletable": false,
    "editable": false,
    "nbgrader": {
     "cell_type": "markdown",
     "checksum": "b5b4b9f4336d3031b1e5854592b66ae7",
     "grade": false,
     "grade_id": "cell-5f528d6e8d5903bd",
     "locked": true,
     "schema_version": 3,
     "solution": false,
     "task": false
    }
   },
   "source": [
    "In many applications, it is natural to represent data as a [matrix](https://en.wikipedia.org/wiki/Matrix_(mathematics)), which is the special case of a two-dimensional NumPy array. \n",
    "\n",
    "We will discuss how to represent our data as a matrix for further analyses in the next round. \n",
    "\n",
    "Matrices are denoted in bold capital letters, e.g. matrix $\\mathbf{X}$ with $m$ rows and $n$ columns or $m \\times n$ matrix.\n",
    "\n",
    "\n",
    "$\\mathbf{X} = \n",
    "           \\begin{pmatrix}\n",
    "              x_1^{(1)} & x_2^{(1)} & \\ldots & x_n^{(1)} \\\\\n",
    "              x_1^{(2)} & x_2^{(2)} & \\ldots & x_n^{(2)} \\\\\n",
    "              \\vdots & \\vdots & \\ddots & \\vdots \\\\\n",
    "              x_1^{(m)} & x_2^{(m)} & \\ldots & x_n^{(m)}\n",
    "           \\end{pmatrix} $\n",
    "\n",
    "\n",
    "Below, you can see how to create a matrix $\\mathbf{X}$ with $m=3$ and $n=4$, containing the range of numbers $0,1,\\ldots,11$. "
   ]
  },
  {
   "cell_type": "code",
   "execution_count": 91,
   "metadata": {
    "deletable": false,
    "editable": false,
    "nbgrader": {
     "cell_type": "code",
     "checksum": "4768e9352345fb9832fdbba417348380",
     "grade": false,
     "grade_id": "cell-74808a842ce1f04e",
     "locked": true,
     "schema_version": 3,
     "solution": false,
     "task": false
    }
   },
   "outputs": [
    {
     "name": "stdout",
     "output_type": "stream",
     "text": [
      "[[ 0  1  2  3]\n",
      " [ 4  5  6  7]\n",
      " [ 8  9 10 11]]\n"
     ]
    }
   ],
   "source": [
    "X = np.arange(12).reshape(3,4)\n",
    "print(X)"
   ]
  },
  {
   "cell_type": "markdown",
   "metadata": {
    "deletable": false,
    "editable": false,
    "nbgrader": {
     "cell_type": "markdown",
     "checksum": "4e3ac6cc839548243c26c5b123d5d639",
     "grade": false,
     "grade_id": "cell-f194b62ac4c881c9",
     "locked": true,
     "schema_version": 3,
     "solution": false,
     "task": false
    }
   },
   "source": [
    "**<center><font size=\"4\">Transpose of vectors and matrices</font></center>**\n",
    "\n",
    "The transpose of a matrix and a vector are denoted $\\mathbf{X}^{T}$ or $\\mathbf{x}^{T}$ respectively."
   ]
  },
  {
   "cell_type": "code",
   "execution_count": 92,
   "metadata": {
    "deletable": false,
    "editable": false,
    "nbgrader": {
     "cell_type": "code",
     "checksum": "3a02f808b1d151b80b9da9d6ad09e772",
     "grade": false,
     "grade_id": "cell-2a470b721dcf1b1d",
     "locked": true,
     "schema_version": 3,
     "solution": false,
     "task": false
    }
   },
   "outputs": [
    {
     "name": "stdout",
     "output_type": "stream",
     "text": [
      "[[ 0  4  8]\n",
      " [ 1  5  9]\n",
      " [ 2  6 10]\n",
      " [ 3  7 11]] \n",
      "\n",
      "[0 1 2]\n"
     ]
    }
   ],
   "source": [
    "print(X.T, \"\\n\") # \"\\n\" prints empty line\n",
    "print(x.T)"
   ]
  },
  {
   "cell_type": "markdown",
   "metadata": {
    "deletable": false,
    "editable": false,
    "nbgrader": {
     "cell_type": "markdown",
     "checksum": "114c5b2d545176cf86e36a391f415837",
     "grade": false,
     "grade_id": "cell-ada9ec3f4e802004",
     "locked": true,
     "schema_version": 3,
     "solution": false,
     "task": false
    }
   },
   "source": [
    "**<center><font size=\"4\">Dimension (vector space)</font></center>**\n",
    "\n",
    "Often you will see notations such as $\\mathbf{x} \\in \\mathbb{R}^n$ or $\\mathbf{X} \\in \\mathbb{R}^{m \\times n}$, where $\\mathbb{R}$  are [real numbers](https://en.wikipedia.org/wiki/Real_number) and $\\mathbb{R}^n$ is a [coordinate space](https://en.wikipedia.org/wiki/Real_coordinate_space) consisting of length-$n$ lists of real numbers. For example,  $\\mathbb{R}^2$ is a plane and $\\mathbf{x} \\in \\mathbb{R}^2$ means that vector $\\mathbf{x}$ is in vector space  $\\mathbb{R}^2$ or in the plane.\n",
    "\n",
    "A vector $\\mathbf{x} \\in \\mathbb{R}^2$ consist of two elements and a matrix $\\mathbf{X} \\in \\mathbb{R}^{3 \\times 4}$ consists of $3 \\times 4$ elements.\n",
    "\n",
    "Generally, we say that the matrix $\\mathbf{X}$ with $m$ rows and $n$ columns \n",
    "\n",
    "\\begin{equation}\n",
    "\\mathbf{X}  = \\begin{pmatrix} x_{1,1} & x_{1,2} & \\ldots & x_{1,n} \\\\ \n",
    "x_{2,1} & x_{2,2}& \\ldots & x_{2,n} \\\\ \n",
    "\\vdots & \\vdots & \\vdots & \\vdots \\\\ \n",
    "x_{m,1} & x_{m,2} & \\ldots & x_{m,n} \\end{pmatrix}\\in \\mathbb{R}^{m \\times n}\n",
    "\\end{equation} "
   ]
  },
  {
   "cell_type": "markdown",
   "metadata": {
    "deletable": false,
    "editable": false,
    "nbgrader": {
     "cell_type": "markdown",
     "checksum": "dc02cf05fbaaa82cc2f932f95846eae4",
     "grade": false,
     "grade_id": "cell-4d64a20460479004",
     "locked": true,
     "schema_version": 3,
     "solution": false,
     "task": false
    }
   },
   "source": [
    "**<center><font size=\"4\"> Matrix multiplication</font></center>**\n",
    "\n",
    "Now we will use numpy arrays to create a matrix $\\mathbf{X}$ with $m$ rows and $n$ columns \n",
    "\n",
    "\\begin{equation}\n",
    "\\mathbf{X}  = \\begin{pmatrix} x_{1,1} & x_{1,2} & \\ldots & x_{1,n} \\\\ \n",
    "x_{2,1} & x_{2,2}& \\ldots & x_{2,n} \\\\ \n",
    "\\vdots & \\vdots & \\vdots & \\vdots \\\\ \n",
    "x_{m,1} & x_{m,2} & \\ldots & x_{m,n} \\end{pmatrix}\\in \\mathbb{R}^{m \\times n}\n",
    "\\end{equation} \n",
    "\n",
    " a matrix $\\mathbf{Y}$ with $n$ rows and $m$ columns  \n",
    "\n",
    "\\begin{equation}\n",
    "\\mathbf{Y}  = \\begin{pmatrix} y_{1,1} & y_{1,2} & \\ldots & y_{1,m} \\\\ \n",
    "y_{2,1} & y_{2,2}& \\ldots & y_{2,m} \\\\ \n",
    "\\vdots & \\vdots & \\vdots & \\vdots \\\\ \n",
    "y_{n,1} & y_{n,2} & \\ldots & y_{n,m} \\end{pmatrix}\\in \\mathbb{R}^{n \\times m},\n",
    "\\end{equation}  \n",
    "\n",
    "\n",
    "and perform matrix multiplication to compute the product $\\mathbf{X}\\mathbf{Y}$. "
   ]
  },
  {
   "cell_type": "markdown",
   "metadata": {
    "deletable": false,
    "editable": false,
    "nbgrader": {
     "cell_type": "markdown",
     "checksum": "ab83bbba36b376427c21202165877faf",
     "grade": false,
     "grade_id": "cell-772de16c40ef145d",
     "locked": true,
     "schema_version": 3,
     "solution": false,
     "task": false
    }
   },
   "source": [
    "[Matrix multiplication](https://en.wikipedia.org/wiki/Matrix_multiplication) is a binary operation that produces a matrix from two matrices. For matrix multiplication, the number of columns in the first matrix must be equal to the number of rows in the second matrix. The result matrix, known as the matrix product, has the number of rows of the first and the number of columns of the second matrix.\n",
    "\n",
    "In Python, matrix multiplication can be performed using NumPy with the `@` operator, which is equivalent to the function `numpy.matmul()`."
   ]
  },
  {
   "cell_type": "code",
   "execution_count": 93,
   "metadata": {
    "deletable": false,
    "editable": false,
    "nbgrader": {
     "cell_type": "code",
     "checksum": "ca397885838c668c5ed10add75776398",
     "grade": false,
     "grade_id": "cell-99e1f5da284f1c96",
     "locked": true,
     "schema_version": 3,
     "solution": false,
     "task": false
    }
   },
   "outputs": [
    {
     "name": "stdout",
     "output_type": "stream",
     "text": [
      "the matrix X has 4 rows and 3 columns \n",
      "\n",
      "the matrix Y has 3 rows and 4 columns \n",
      "\n",
      "the product XY=X@Y is XY = \n",
      " [[ 20  23  26  29]\n",
      " [ 56  68  80  92]\n",
      " [ 92 113 134 155]\n",
      " [128 158 188 218]]\n",
      "\n",
      " the matrix XY has 4 rows and 4 columns \n",
      "\n"
     ]
    }
   ],
   "source": [
    "# create an array of length m*n\n",
    "m = 4\n",
    "n = 3\n",
    "array = np.arange(m*n)\n",
    "\n",
    "# create matrix X represented as a numpy array of shape (m,n)\n",
    "X = array.reshape(m,n)\n",
    "dimension=np.shape(X)      # determine dimensions of matrix X\n",
    "rows = dimension[0]        # first element of \"dimension\" is the number of rows \n",
    "cols = dimension[1]        # second element of \"dimension\" is the number of cols\n",
    "print(\"the matrix X has\", rows, \"rows and\", cols, \"columns \\n\") \n",
    "\n",
    "# create matrix Y represented as a numpy array of shape (n,m)\n",
    "Y = array.reshape(n,m)\n",
    "dimension=np.shape(Y)      # determine dimensions of matrix Y\n",
    "rows = dimension[0]        # first element of \"dimension\" is the number of rows \n",
    "cols = dimension[1]        # second element of \"dimension\" is the number of cols\n",
    "print(\"the matrix Y has\", rows, \"rows and\", cols, \"columns \\n\") \n",
    "\n",
    "# matrix multiplication of X and Y\n",
    "XY = X @ Y\n",
    "# print the result of matrix multiplication \n",
    "print(\"the product XY=X@Y is XY = \\n\", XY) \n",
    "# print the shape of the XY matrix\n",
    "print(\"\\n the matrix XY has\", XY.shape[0], \"rows and\", XY.shape[1], \"columns \\n\") "
   ]
  },
  {
   "cell_type": "markdown",
   "metadata": {
    "deletable": false,
    "editable": false,
    "nbgrader": {
     "cell_type": "markdown",
     "checksum": "e67c4d7fcca08a8051c2c4d0b6c1f024",
     "grade": false,
     "grade_id": "cell-bc61856f14e898d1",
     "locked": true,
     "schema_version": 3,
     "solution": false,
     "task": false
    }
   },
   "source": [
    "**Note!** (1) For matrix multiplication, the number of columns in the first matrix must be equal to the number of rows in the second matrix. The result matrix has the number of rows of the first and the number of columns of the second matrix (2) Order of matrix multiplication is important:  `np.matmul(A,B) != np.matmul(B,A)` (3) `A*B` is element-wise multiplication in Python, and not the matrix multiplication."
   ]
  },
  {
   "cell_type": "code",
   "execution_count": 94,
   "metadata": {
    "deletable": false,
    "editable": false,
    "nbgrader": {
     "cell_type": "code",
     "checksum": "e7af89604bfa6e305e384caa7895485d",
     "grade": false,
     "grade_id": "cell-0d4219d979586f5f",
     "locked": true,
     "schema_version": 3,
     "solution": false,
     "task": false
    }
   },
   "outputs": [
    {
     "name": "stdout",
     "output_type": "stream",
     "text": [
      "\n",
      "Matrix multiplication X@Y:\n",
      "\n",
      " [[ 20  23  26  29]\n",
      " [ 56  68  80  92]\n",
      " [ 92 113 134 155]\n",
      " [128 158 188 218]]\n",
      "\n",
      "Matrix multiplication Y@X:\n",
      "\n",
      " [[ 42  48  54]\n",
      " [114 136 158]\n",
      " [186 224 262]]\n",
      "\n",
      "Matrix Z:\n",
      "\n",
      " [[0 1 2]\n",
      " [3 4 5]\n",
      " [6 7 8]]\n",
      "\n",
      "Square - element-wise Z*Z:\n",
      "\n",
      " [[ 0  1  4]\n",
      " [ 9 16 25]\n",
      " [36 49 64]]\n",
      "\n",
      "Square - matrix multiplication Z@Z:\n",
      "\n",
      " [[ 15  18  21]\n",
      " [ 42  54  66]\n",
      " [ 69  90 111]]\n"
     ]
    }
   ],
   "source": [
    "# For matrix multiplication A.dot(B) or A@B can be used\n",
    "print(\"\\nMatrix multiplication X@Y:\\n\\n\", X @ Y)\n",
    "\n",
    "# Order is important in matrix multiplication - A@B != B@A\n",
    "print(\"\\nMatrix multiplication Y@X:\\n\\n\", Y @ X)\n",
    "\n",
    "# Square of the matrix element-wise\n",
    "Z = np.arange(9).reshape(3,3)\n",
    "print(\"\\nMatrix Z:\\n\\n\", Z)\n",
    "print(\"\\nSquare - element-wise Z*Z:\\n\\n\", Z**2)\n",
    "\n",
    "# Square of the matrix by matrix multiplication\n",
    "print(\"\\nSquare - matrix multiplication Z@Z:\\n\\n\", Z @ Z)"
   ]
  },
  {
   "cell_type": "markdown",
   "metadata": {
    "deletable": false,
    "editable": false,
    "nbgrader": {
     "cell_type": "markdown",
     "checksum": "16a2e326087ce8b5e213c749cc39eb12",
     "grade": false,
     "grade_id": "cell-c8da867782d283cc",
     "locked": true,
     "schema_version": 3,
     "solution": false,
     "task": false
    }
   },
   "source": [
    "**<center><font size=\"4\">L1-norm of a vector or matrix</font></center>**\n",
    "\n",
    "Norms of vectors are instrumental when we need to measure the similarity between data points represented as vectors.\n",
    "\n",
    "The L1-norm of a vector $\\mathbf{x}$ is defined as the sum of the absolute values of its elements, and is denoted by\n",
    "\n",
    "\\begin{equation}\n",
    "{||\\mathbf{x}||}_{1}= |{x_1}|+...+|{x_n}|\n",
    "\\end{equation}\n"
   ]
  },
  {
   "cell_type": "markdown",
   "metadata": {
    "deletable": false,
    "editable": false,
    "nbgrader": {
     "cell_type": "markdown",
     "checksum": "0c44ba607e809ee390f6f291f3d5a527",
     "grade": false,
     "grade_id": "cell-569d289c5537c17b",
     "locked": true,
     "schema_version": 3,
     "solution": false,
     "task": false
    }
   },
   "source": [
    "**<center><font size=\"4\">L2-norm of a vector or matrix</font></center>**\n",
    "\n",
    "The L2-norm of a vector or matrix is defined as the square root of sum of the squared components of a vector or matrix, which corresponds to the intuitive notion of distance. It is denoted by\n",
    "\n",
    "\\begin{equation}\n",
    "\\|\\mathbf{x}\\|_{2}= \\sqrt{{x_1}^{2}+...+{x_n}^{2}},\n",
    "\\end{equation}\n",
    " \n",
    "although the subscript is often omitted since the L2-norm is the standard norm in $\\mathbb{R}^n$. It is often useful to calculate the squared L2-norm \n",
    " \n",
    "\\begin{equation}\n",
    "\\|\\mathbf{x}\\|^{2}= {x_1}^{2}+...+{x_n}^{2},\n",
    "\\end{equation}\n",
    " \n",
    "which is equivalent to the inner (dot) product of the vector with itself.\n",
    "\n",
    "In the picture below, you can see the L1 and L2 norms between two points in the Euclidean plane:\n",
    "\n",
    "<img src=\"../../../coursedata/R0_Intro/norm.png\" style=\"height: 300px;\"/>"
   ]
  },
  {
   "cell_type": "markdown",
   "metadata": {
    "deletable": false,
    "editable": false,
    "nbgrader": {
     "cell_type": "markdown",
     "checksum": "4a607ce918e30ebcb4740cbe408ae073",
     "grade": false,
     "grade_id": "cell-a26f228f6bc7a066",
     "locked": true,
     "schema_version": 3,
     "solution": false,
     "task": false
    }
   },
   "source": [
    "**<center><font size=\"4\">Summation</font></center>**\n",
    "\n",
    "The sum of all elements (from 1 to $n$) of an indexed collection $(x_1, x_2, \\ldots, x_n)$ (e.g., a vector $\\mathbf{x}$) is denoted by\n",
    "\n",
    "\\begin{equation}\n",
    "\\sum_{i=1}^{n}{x}_{i} = {x_1}+...+{x_n}\n",
    "\\end{equation}\n",
    "\n",
    "For example, we can re-write vector norm formula as \n",
    "\n",
    "\\begin{equation}\n",
    "\\| \\mathbf{x} \\|^{2}= \\sum_{i=1}^{n}{x_i}^{2} = {x_1}^{2}+...+{x_n}^{2}\n",
    "\\end{equation}"
   ]
  },
  {
   "cell_type": "markdown",
   "metadata": {
    "deletable": false,
    "editable": false,
    "nbgrader": {
     "cell_type": "markdown",
     "checksum": "29e71fcf37709ca559dbef42a12817cd",
     "grade": false,
     "grade_id": "cell-8ef6bad622585566",
     "locked": true,
     "schema_version": 3,
     "solution": false,
     "task": false
    }
   },
   "source": [
    "**<center><font size=\"4\">Product</font></center>**\n",
    "\n",
    "Product notation $ \\prod$ is used to indicate repeated multiplication.\n",
    "\n",
    "For example,\n",
    "\n",
    "\\begin{equation}\n",
    "\\prod_{k=3}^7 k = 3·4·5·6·7,\n",
    "\\end{equation} or\n",
    "\n",
    "\\begin{equation}\n",
    "\\prod_{i=1}^n {x}_{i} = {x_1}· ... ·{x_n}.\n",
    "\\end{equation}\n"
   ]
  },
  {
   "cell_type": "markdown",
   "metadata": {
    "deletable": false,
    "editable": false,
    "nbgrader": {
     "cell_type": "markdown",
     "checksum": "00efaefb5af2915a661dc369e4a61b16",
     "grade": false,
     "grade_id": "cell-364dea2f09e5e5b1",
     "locked": true,
     "schema_version": 3,
     "solution": false,
     "task": false
    }
   },
   "source": [
    "<a id='STvectors'></a>\n",
    "<div class=\" alert alert-warning\">\n",
    "   <font size=\"4\"> <b>Student task.</b> Vector and Matrix operations.</font>\n",
    "    \n",
    "Consider following vectors:\n",
    "\n",
    "\\begin{equation}   \n",
    "\\mathbf{x} = \\begin{pmatrix} x_{1} \\\\ x_{2} \\\\ \\vdots \\\\ x_{n} \\end{pmatrix} \\ \n",
    "\\mathbf{w} = \\begin{pmatrix} w_{1} \\\\ w_{2} \\\\ \\vdots \\\\ w_{n} \\end{pmatrix} \n",
    "\\end{equation}    \n",
    "\n",
    "    \n",
    "Your task is to perform following calculations:\n",
    "\n",
    "1.  sum all elements of vector $\\mathbf{x}$:  $\\sum_{i=1}^{n}{x}_{i}$ and store result in variable `vector_sum` \n",
    "2.  square of L2-norm of vector $\\mathbf{x}$: ${||\\mathbf{x}||_2}^{2}$ and store result in `vector_norm ` \n",
    "3.  compute dot-product of two vectors $\\mathbf{w}$ and $\\mathbf{x}$: $\\mathbf{w}^{T}\\mathbf{x}$ and store in variable  `vector_dotprod`\n",
    "4.  compute outer product of two vectors $\\mathbf{w}$ and $\\mathbf{x}$: $\\mathbf{w}\\mathbf{x}^{T}$ and store in variable `vector_outerprod`\n",
    "5. compute multiplication  of `vector_outerprod` and `A` (given below) and store in `mat_mult`\n",
    "    \n",
    "</div>"
   ]
  },
  {
   "cell_type": "code",
   "execution_count": 95,
   "metadata": {
    "deletable": false,
    "nbgrader": {
     "cell_type": "code",
     "checksum": "a6622a0b999a73440c9754b3280372de",
     "grade": false,
     "grade_id": "cell-628ae34c95f3db8f",
     "locked": false,
     "schema_version": 3,
     "solution": true,
     "task": false
    }
   },
   "outputs": [],
   "source": [
    "np.random.seed(42)\n",
    "\n",
    "x = np.arange(5).reshape(-1,)\n",
    "w = np.random.rand(5).reshape(-1,)\n",
    "A = np.arange(15).reshape(5,3)\n",
    "\n",
    "### STUDENT TASK ###\n",
    "vector_sum = x.sum()\n",
    "vector_norm = (x ** 2).sum()\n",
    "vector_dotprod = (w.T).dot(x)\n",
    "vector_outerprod = np.outer(w,x.T)\n",
    "mat_mult = vector_outerprod @ A\n",
    "# remove the line raise NotImplementedError() before testing your solution and submitting code\n",
    "# YOUR CODE HERE\n",
    "# raise NotImplementedError()"
   ]
  },
  {
   "cell_type": "code",
   "execution_count": 96,
   "metadata": {
    "deletable": false,
    "editable": false,
    "nbgrader": {
     "cell_type": "code",
     "checksum": "5597d69ae3d2be490bcedb4a8728e6b4",
     "grade": true,
     "grade_id": "cell-f442daf068ae1bc2",
     "locked": true,
     "points": 0,
     "schema_version": 3,
     "solution": false,
     "task": false
    }
   },
   "outputs": [
    {
     "name": "stdout",
     "output_type": "stream",
     "text": [
      "Sanity checks passed!\n"
     ]
    }
   ],
   "source": [
    "# Perform sanity check on the results\n",
    "assert vector_sum < 12, \"vector_sum value is too big\"\n",
    "assert vector_norm < 35, \"vector_norm value is too big\"\n",
    "assert vector_dotprod < 6,  \"vector_dotprod value is too big\"\n",
    "assert vector_outerprod.shape == (5,5),  \"vector_outerprod shape is wrong\"\n",
    "assert mat_mult.shape == (5,3), \"mat_mult shape is wrong\"\n",
    "\n",
    "print('Sanity checks passed!')\n"
   ]
  }
 ],
 "metadata": {
  "kernelspec": {
   "display_name": "Python 3",
   "language": "python",
   "name": "python3"
  },
  "language_info": {
   "codemirror_mode": {
    "name": "ipython",
    "version": 3
   },
   "file_extension": ".py",
   "mimetype": "text/x-python",
   "name": "python",
   "nbconvert_exporter": "python",
   "pygments_lexer": "ipython3",
   "version": "3.7.3"
  },
  "nbdime-conflicts": {
   "local_diff": [
    {
     "diff": [
      {
       "diff": [
        {
         "diff": [
          {
           "key": 4,
           "op": "addrange",
           "valuelist": "3"
          },
          {
           "key": 4,
           "length": 1,
           "op": "removerange"
          }
         ],
         "key": 0,
         "op": "patch"
        }
       ],
       "key": "version",
       "op": "patch"
      }
     ],
     "key": "language_info",
     "op": "patch"
    }
   ],
   "remote_diff": [
    {
     "diff": [
      {
       "diff": [
        {
         "diff": [
          {
           "key": 4,
           "op": "addrange",
           "valuelist": "4"
          },
          {
           "key": 4,
           "length": 1,
           "op": "removerange"
          }
         ],
         "key": 0,
         "op": "patch"
        }
       ],
       "key": "version",
       "op": "patch"
      }
     ],
     "key": "language_info",
     "op": "patch"
    }
   ]
  },
  "toc": {
   "base_numbering": 1,
   "nav_menu": {},
   "number_sections": false,
   "sideBar": true,
   "skip_h1_title": false,
   "title_cell": "Table of Contents",
   "title_sidebar": "Contents",
   "toc_cell": false,
   "toc_position": {
    "height": "507.275px",
    "left": "23.975px",
    "top": "145.5px",
    "width": "233.9791717529297px"
   },
   "toc_section_display": true,
   "toc_window_display": true
  },
  "varInspector": {
   "cols": {
    "lenName": 16,
    "lenType": 16,
    "lenVar": 40
   },
   "kernels_config": {
    "python": {
     "delete_cmd_postfix": "",
     "delete_cmd_prefix": "del ",
     "library": "var_list.py",
     "varRefreshCmd": "print(var_dic_list())"
    },
    "r": {
     "delete_cmd_postfix": ") ",
     "delete_cmd_prefix": "rm(",
     "library": "var_list.r",
     "varRefreshCmd": "cat(var_dic_list()) "
    }
   },
   "oldHeight": 194.85,
   "position": {
    "height": "216.85px",
    "left": "1417px",
    "right": "18px",
    "top": "126px",
    "width": "485px"
   },
   "types_to_exclude": [
    "module",
    "function",
    "builtin_function_or_method",
    "instance",
    "_Feature"
   ],
   "varInspector_section_display": "block",
   "window_display": false
  }
 },
 "nbformat": 4,
 "nbformat_minor": 2
}
